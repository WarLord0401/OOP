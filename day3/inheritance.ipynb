{
 "cells": [
  {
   "cell_type": "markdown",
   "id": "8d75c83d",
   "metadata": {},
   "source": [
    "Basically a child class using the properties of a parent class"
   ]
  },
  {
   "cell_type": "markdown",
   "id": "f4692fe7",
   "metadata": {},
   "source": [
    "For example, in Udemy, there can be two classes: Student and Instructor"
   ]
  },
  {
   "cell_type": "markdown",
   "id": "dea1c21b",
   "metadata": {},
   "source": [
    "If we get all methods associated with each:\n",
    "    Student: [Login, Register, Enroll, Feedback]\n",
    "    Instructor: [Login, Register, Create, Reply]\n",
    "\n",
    "Now you can observe that both of these has two common functions: [Login, Register]\n",
    "This is a case of repeating code.\n",
    "\n",
    "So we will make a new parent class: User with methods: [Login, Register]\n",
    "and then we will make Student and Instructor its child classes."
   ]
  },
  {
   "cell_type": "markdown",
   "id": "3800a39f",
   "metadata": {},
   "source": [
    "This way, Login and Register methods will be used by both the child classes through __Inheritance__"
   ]
  },
  {
   "cell_type": "markdown",
   "id": "20c2736b",
   "metadata": {},
   "source": []
  }
 ],
 "metadata": {
  "kernelspec": {
   "display_name": "Python 3",
   "language": "python",
   "name": "python3"
  },
  "language_info": {
   "name": "python",
   "version": "3.13.5"
  }
 },
 "nbformat": 4,
 "nbformat_minor": 5
}
