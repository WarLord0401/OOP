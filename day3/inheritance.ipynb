{
 "cells": [
  {
   "cell_type": "markdown",
   "id": "8d75c83d",
   "metadata": {},
   "source": [
    "Basically a child class using the properties of a parent class"
   ]
  },
  {
   "cell_type": "markdown",
   "id": "f4692fe7",
   "metadata": {},
   "source": [
    "For example, in Udemy, there can be two classes: Student and Instructor"
   ]
  },
  {
   "cell_type": "markdown",
   "id": "dea1c21b",
   "metadata": {},
   "source": [
    "If we get all methods associated with each:\n",
    "    Student: [Login, Register, Enroll, Feedback]\n",
    "    Instructor: [Login, Register, Create, Reply]\n",
    "\n",
    "Now you can observe that both of these has two common functions: [Login, Register]\n",
    "This is a case of repeating code.\n",
    "\n",
    "So we will make a new parent class: User with methods: [Login, Register]\n",
    "and then we will make Student and Instructor its child classes."
   ]
  },
  {
   "cell_type": "markdown",
   "id": "3800a39f",
   "metadata": {},
   "source": [
    "This way, Login and Register methods will be used by both the child classes through __Inheritance__"
   ]
  },
  {
   "cell_type": "markdown",
   "id": "20c2736b",
   "metadata": {},
   "source": [
    "# Example:"
   ]
  },
  {
   "cell_type": "code",
   "execution_count": 2,
   "id": "13eeee91",
   "metadata": {},
   "outputs": [],
   "source": [
    "class User:\n",
    "    def __init__(self):\n",
    "        self.name = \"nitish\"\n",
    "\n",
    "    \n",
    "    def login(self):\n",
    "        print(\"Logged in\")\n",
    "\n",
    "class Student(User): # without the (User), both classes would have been independent. But with this, Studednt now inherits User.\n",
    "    def __init__(self):\n",
    "        self.rollNo = 100\n",
    "\n",
    "    \n",
    "    def enroll(self):\n",
    "        print(\"Enrolled in Course.\")"
   ]
  },
  {
   "cell_type": "code",
   "execution_count": null,
   "id": "a702c8db",
   "metadata": {},
   "outputs": [
    {
     "name": "stdout",
     "output_type": "stream",
     "text": [
      "Logged in\n",
      "Enrolled in Course.\n",
      "100\n"
     ]
    },
    {
     "ename": "AttributeError",
     "evalue": "'Student' object has no attribute 'name'",
     "output_type": "error",
     "traceback": [
      "\u001b[1;31m---------------------------------------------------------------------------\u001b[0m",
      "\u001b[1;31mAttributeError\u001b[0m                            Traceback (most recent call last)",
      "Cell \u001b[1;32mIn[5], line 7\u001b[0m\n\u001b[0;32m      5\u001b[0m s\u001b[38;5;241m.\u001b[39menroll()\n\u001b[0;32m      6\u001b[0m \u001b[38;5;28mprint\u001b[39m(s\u001b[38;5;241m.\u001b[39mrollNo)\n\u001b[1;32m----> 7\u001b[0m \u001b[38;5;28mprint\u001b[39m(\u001b[43ms\u001b[49m\u001b[38;5;241;43m.\u001b[39;49m\u001b[43mname\u001b[49m)\n",
      "\u001b[1;31mAttributeError\u001b[0m: 'Student' object has no attribute 'name'"
     ]
    }
   ],
   "source": [
    "# now if we actually try to access the values in User class:\n",
    "u = User()\n",
    "s = Student()\n",
    "s.login()\n",
    "s.enroll()\n",
    "print(s.rollNo)\n",
    "print(s.name)"
   ]
  },
  {
   "cell_type": "code",
   "execution_count": 6,
   "id": "2259ee45",
   "metadata": {},
   "outputs": [],
   "source": [
    "# Why is there an error for attribute? Lets remove the constructor of Student\n",
    "\n",
    "class Student(User): # without the (User), both classes would have been independent. But with this, Studednt now inherits User.\n",
    "    # def __init__(self):\n",
    "    #     self.rollNo = 100\n",
    "    def enroll(self):\n",
    "        print(\"Enrolled in Course.\")"
   ]
  },
  {
   "cell_type": "code",
   "execution_count": 7,
   "id": "651e5ded",
   "metadata": {},
   "outputs": [
    {
     "name": "stdout",
     "output_type": "stream",
     "text": [
      "nitish\n"
     ]
    }
   ],
   "source": [
    "s2 = Student()\n",
    "print(s2.name)"
   ]
  },
  {
   "cell_type": "code",
   "execution_count": null,
   "id": "5219e192",
   "metadata": {},
   "outputs": [],
   "source": [
    "# And now it works. Why? =>\n",
    "# So when we create an object, it automatically searches for a constructor in the class. If no constructor is present,\n",
    "# then it searches in parent class. So when we added a constructor in Student class, the parent's constructor didn't even get called.\n",
    "# This is why we saw an error that name attribute is not present in Student. Because parent's constructor wasn't called."
   ]
  },
  {
   "cell_type": "markdown",
   "id": "6a116877",
   "metadata": {},
   "source": [
    "So, What gets inherited?\n",
    "- Constructors\n",
    "- Non private Attributes\n",
    "- Non private Methods"
   ]
  },
  {
   "cell_type": "code",
   "execution_count": 11,
   "id": "5f9d58f8",
   "metadata": {},
   "outputs": [
    {
     "name": "stdout",
     "output_type": "stream",
     "text": [
      "Inside Phone Contructor\n",
      "Buying a phone\n"
     ]
    }
   ],
   "source": [
    "# example:\n",
    "\n",
    "class Phone:\n",
    "    def __init__(self, price, brand, camera):\n",
    "        print(\"Inside Phone Contructor\")\n",
    "        self.price = price\n",
    "        self.brand = brand\n",
    "        self.camera = camera\n",
    "\n",
    "    def buy(self):\n",
    "        print(\"Buying a phone\")\n",
    "\n",
    "class SmartPhone(Phone):\n",
    "    pass\n",
    "\n",
    "s = SmartPhone(20000, \"Apple\", 13)\n",
    "s.buy()"
   ]
  },
  {
   "cell_type": "code",
   "execution_count": 15,
   "id": "1f1555f9",
   "metadata": {},
   "outputs": [
    {
     "name": "stdout",
     "output_type": "stream",
     "text": [
      "Inside SmartPhone Constructor\n"
     ]
    }
   ],
   "source": [
    "# Since child didnt have its own constructor, it used/called the Parent's constructor.\n",
    "\n",
    "# Ok example 2:\n",
    "\n",
    "class Phone:\n",
    "    def __init__(self, price, brand, camera):\n",
    "        print(\"Inside Phone Contructor\")\n",
    "        self.price = price\n",
    "        self.brand = brand\n",
    "        self.camera = camera\n",
    "\n",
    "\n",
    "class SmartPhone(Phone):\n",
    "    def __init__(self, os, ram):\n",
    "        self.os = os\n",
    "        self.ram = ram\n",
    "        print(\"Inside SmartPhone Constructor\")\n",
    "\n",
    "s = SmartPhone(\"Android\", 8)"
   ]
  },
  {
   "cell_type": "code",
   "execution_count": 16,
   "id": "6928cfd4",
   "metadata": {},
   "outputs": [
    {
     "ename": "AttributeError",
     "evalue": "'SmartPhone' object has no attribute 'brand'",
     "output_type": "error",
     "traceback": [
      "\u001b[1;31m---------------------------------------------------------------------------\u001b[0m",
      "\u001b[1;31mAttributeError\u001b[0m                            Traceback (most recent call last)",
      "Cell \u001b[1;32mIn[16], line 3\u001b[0m\n\u001b[0;32m      1\u001b[0m \u001b[38;5;66;03m# Thus, since the child class had it's own constructor, the parent's constructor was never called and hence those attributes were never initialized.\u001b[39;00m\n\u001b[0;32m      2\u001b[0m \u001b[38;5;66;03m# hence if we try to call suppose s.brand, it will cause an error as we can see:\u001b[39;00m\n\u001b[1;32m----> 3\u001b[0m \u001b[38;5;28mprint\u001b[39m(\u001b[43ms\u001b[49m\u001b[38;5;241;43m.\u001b[39;49m\u001b[43mbrand\u001b[49m)\n",
      "\u001b[1;31mAttributeError\u001b[0m: 'SmartPhone' object has no attribute 'brand'"
     ]
    }
   ],
   "source": [
    "# Thus, since the child class had it's own constructor, the parent's constructor was never called and hence those attributes were never initialized.\n",
    "# hence if we try to call suppose s.brand, it will cause an error as we can see:\n",
    "print(s.brand)"
   ]
  },
  {
   "cell_type": "markdown",
   "id": "e3305d5e",
   "metadata": {},
   "source": [
    "Child object cannot acccess the private attributes of the parent class"
   ]
  },
  {
   "cell_type": "code",
   "execution_count": 23,
   "id": "bef5a398",
   "metadata": {},
   "outputs": [
    {
     "name": "stdout",
     "output_type": "stream",
     "text": [
      "Inside parent Constructor\n",
      "Apple\n"
     ]
    },
    {
     "ename": "AttributeError",
     "evalue": "'SmartPhone' object has no attribute '_SmartPhone__price'",
     "output_type": "error",
     "traceback": [
      "\u001b[1;31m---------------------------------------------------------------------------\u001b[0m",
      "\u001b[1;31mAttributeError\u001b[0m                            Traceback (most recent call last)",
      "Cell \u001b[1;32mIn[23], line 19\u001b[0m\n\u001b[0;32m     17\u001b[0m s \u001b[38;5;241m=\u001b[39m SmartPhone(\u001b[38;5;241m20000\u001b[39m, \u001b[38;5;124m\"\u001b[39m\u001b[38;5;124mApple\u001b[39m\u001b[38;5;124m\"\u001b[39m, \u001b[38;5;241m32\u001b[39m)\n\u001b[0;32m     18\u001b[0m \u001b[38;5;28mprint\u001b[39m(s\u001b[38;5;241m.\u001b[39mbrand)\n\u001b[1;32m---> 19\u001b[0m \u001b[43ms\u001b[49m\u001b[38;5;241;43m.\u001b[39;49m\u001b[43mcheck\u001b[49m\u001b[43m(\u001b[49m\u001b[43m)\u001b[49m\n",
      "Cell \u001b[1;32mIn[23], line 15\u001b[0m, in \u001b[0;36mSmartPhone.check\u001b[1;34m(self)\u001b[0m\n\u001b[0;32m     14\u001b[0m \u001b[38;5;28;01mdef\u001b[39;00m\u001b[38;5;250m \u001b[39m\u001b[38;5;21mcheck\u001b[39m(\u001b[38;5;28mself\u001b[39m):\n\u001b[1;32m---> 15\u001b[0m     \u001b[38;5;28mprint\u001b[39m(\u001b[38;5;28;43mself\u001b[39;49m\u001b[38;5;241;43m.\u001b[39;49m\u001b[43m__price\u001b[49m)\n",
      "\u001b[1;31mAttributeError\u001b[0m: 'SmartPhone' object has no attribute '_SmartPhone__price'"
     ]
    }
   ],
   "source": [
    "# example\n",
    "\n",
    "class Phone:\n",
    "    def __init__(self, price, brand, camera):\n",
    "        print(\"Inside parent Constructor\")\n",
    "        self.__price = price\n",
    "        self.brand = brand\n",
    "        self.camera = camera\n",
    "    \n",
    "    def show(self):\n",
    "        print(self.__price)\n",
    "\n",
    "class SmartPhone(Phone):\n",
    "    def check(self):\n",
    "        print(self.__price)\n",
    "\n",
    "s = SmartPhone(20000, \"Apple\", 32)\n",
    "print(s.brand)\n",
    "s.check()\n",
    "\n"
   ]
  },
  {
   "cell_type": "code",
   "execution_count": null,
   "id": "ffc27eac",
   "metadata": {},
   "outputs": [
    {
     "name": "stdout",
     "output_type": "stream",
     "text": [
      "Inside parent Constructor\n",
      "Apple\n"
     ]
    },
    {
     "ename": "AttributeError",
     "evalue": "'SmartPhone' object has no attribute '__show'",
     "output_type": "error",
     "traceback": [
      "\u001b[1;31m---------------------------------------------------------------------------\u001b[0m",
      "\u001b[1;31mAttributeError\u001b[0m                            Traceback (most recent call last)",
      "Cell \u001b[1;32mIn[25], line 19\u001b[0m\n\u001b[0;32m     17\u001b[0m s \u001b[38;5;241m=\u001b[39m SmartPhone(\u001b[38;5;241m20000\u001b[39m, \u001b[38;5;124m\"\u001b[39m\u001b[38;5;124mApple\u001b[39m\u001b[38;5;124m\"\u001b[39m, \u001b[38;5;241m32\u001b[39m)\n\u001b[0;32m     18\u001b[0m \u001b[38;5;28mprint\u001b[39m(s\u001b[38;5;241m.\u001b[39mbrand)\n\u001b[1;32m---> 19\u001b[0m \u001b[43ms\u001b[49m\u001b[38;5;241;43m.\u001b[39;49m\u001b[43m__show\u001b[49m()\n\u001b[0;32m     20\u001b[0m s\u001b[38;5;241m.\u001b[39mcheck()\n\u001b[0;32m     22\u001b[0m \u001b[38;5;66;03m# WE ACCESS THE VALUE OF PRIVATE VALUES THROUGH PUBLIC GET METHODS\u001b[39;00m\n",
      "\u001b[1;31mAttributeError\u001b[0m: 'SmartPhone' object has no attribute '__show'"
     ]
    }
   ],
   "source": [
    "# example for private method\n",
    "\n",
    "class Phone:\n",
    "    def __init__(self, price, brand, camera):\n",
    "        print(\"Inside parent Constructor\")\n",
    "        self.__price = price\n",
    "        self.brand = brand\n",
    "        self.camera = camera\n",
    "    \n",
    "    def __show(self):\n",
    "        print(self.__price)\n",
    "\n",
    "class SmartPhone(Phone):\n",
    "    def check(self):\n",
    "        print(self.__price)\n",
    "\n",
    "s = SmartPhone(20000, \"Apple\", 32)\n",
    "print(s.brand)\n",
    "s.__show()\n",
    "s.check()"
   ]
  },
  {
   "cell_type": "code",
   "execution_count": 29,
   "id": "12504fc3",
   "metadata": {},
   "outputs": [
    {
     "name": "stdout",
     "output_type": "stream",
     "text": [
      "100\n",
      "Child class\n"
     ]
    }
   ],
   "source": [
    "# WE ACCESS THE VALUE OF PRIVATE VALUES THROUGH PUBLIC GET METHODS\n",
    "\n",
    "class Parent:\n",
    "    def __init__(self, num):\n",
    "        self.__num = num\n",
    "    \n",
    "    def get_num(self):\n",
    "        return self.__num\n",
    "    \n",
    "class Child(Parent):\n",
    "    def show(self):\n",
    "        print(\"Child class\")\n",
    "\n",
    "c = Child(100)\n",
    "print(c.get_num())\n",
    "c.show()"
   ]
  },
  {
   "cell_type": "code",
   "execution_count": 30,
   "id": "81411188",
   "metadata": {},
   "outputs": [
    {
     "ename": "AttributeError",
     "evalue": "'Child' object has no attribute '_Parent__num'",
     "output_type": "error",
     "traceback": [
      "\u001b[1;31m---------------------------------------------------------------------------\u001b[0m",
      "\u001b[1;31mAttributeError\u001b[0m                            Traceback (most recent call last)",
      "Cell \u001b[1;32mIn[30], line 16\u001b[0m\n\u001b[0;32m     13\u001b[0m         \u001b[38;5;28;01mreturn\u001b[39;00m \u001b[38;5;28mself\u001b[39m\u001b[38;5;241m.\u001b[39m__val\n\u001b[0;32m     15\u001b[0m son \u001b[38;5;241m=\u001b[39m Child(\u001b[38;5;241m100\u001b[39m, \u001b[38;5;241m10\u001b[39m)\n\u001b[1;32m---> 16\u001b[0m \u001b[38;5;28mprint\u001b[39m(\u001b[38;5;124m\"\u001b[39m\u001b[38;5;124mParent: Num:\u001b[39m\u001b[38;5;124m\"\u001b[39m, \u001b[43mson\u001b[49m\u001b[38;5;241;43m.\u001b[39;49m\u001b[43mget_num\u001b[49m\u001b[43m(\u001b[49m\u001b[43m)\u001b[49m)\n\u001b[0;32m     17\u001b[0m \u001b[38;5;28mprint\u001b[39m(\u001b[38;5;124m\"\u001b[39m\u001b[38;5;124mChild: Num:\u001b[39m\u001b[38;5;124m\"\u001b[39m, son\u001b[38;5;241m.\u001b[39mget_val())\n",
      "Cell \u001b[1;32mIn[30], line 6\u001b[0m, in \u001b[0;36mParent.get_num\u001b[1;34m(self)\u001b[0m\n\u001b[0;32m      5\u001b[0m \u001b[38;5;28;01mdef\u001b[39;00m\u001b[38;5;250m \u001b[39m\u001b[38;5;21mget_num\u001b[39m(\u001b[38;5;28mself\u001b[39m):\n\u001b[1;32m----> 6\u001b[0m     \u001b[38;5;28;01mreturn\u001b[39;00m \u001b[38;5;28;43mself\u001b[39;49m\u001b[38;5;241;43m.\u001b[39;49m\u001b[43m__num\u001b[49m\n",
      "\u001b[1;31mAttributeError\u001b[0m: 'Child' object has no attribute '_Parent__num'"
     ]
    }
   ],
   "source": [
    "class Parent:\n",
    "    def __init__(self, num):\n",
    "        self.__num = num\n",
    "\n",
    "    def get_num(self):\n",
    "        return self.__num\n",
    "    \n",
    "class Child(Parent):\n",
    "    def __init__(self, val, num):\n",
    "        self.__val = val\n",
    "\n",
    "    def get_val(self):\n",
    "        return self.__val\n",
    "    \n",
    "son = Child(100, 10)\n",
    "print(\"Parent: Num:\", son.get_num())\n",
    "print(\"Child: Num:\", son.get_val())"
   ]
  },
  {
   "cell_type": "code",
   "execution_count": 32,
   "id": "167678a3",
   "metadata": {},
   "outputs": [
    {
     "name": "stdout",
     "output_type": "stream",
     "text": [
      "Inside parent Constructor\n",
      "Buying a SmartPhone\n"
     ]
    }
   ],
   "source": [
    "# Method Overriding:\n",
    "\n",
    "class Phone:\n",
    "    def __init__(self, price, brand, camera):\n",
    "        print(\"Inside parent Constructor\")\n",
    "        self.__price = price\n",
    "        self.brand = brand\n",
    "        self.camera = camera\n",
    "\n",
    "    def buy(self):\n",
    "        print(\"Buying a phone\")\n",
    "\n",
    "class SmartPhone(Phone):\n",
    "    def buy(self):\n",
    "        print(\"Buying a SmartPhone\")\n",
    "\n",
    "s = SmartPhone(20000, \"Apple\", 13)\n",
    "s.buy()"
   ]
  },
  {
   "cell_type": "markdown",
   "id": "271e3f06",
   "metadata": {},
   "source": [
    "If both the parent and the child classes have any method of the same name, then always the method of the child class is executed\n",
    "\n",
    "This is known as __Method Overriding__\n",
    "\n",
    "The constructor issue that we saw earlier is an example of this."
   ]
  },
  {
   "cell_type": "markdown",
   "id": "fc930e5f",
   "metadata": {},
   "source": [
    "# Super Keyword"
   ]
  },
  {
   "cell_type": "code",
   "execution_count": 33,
   "id": "7049bf53",
   "metadata": {},
   "outputs": [
    {
     "name": "stdout",
     "output_type": "stream",
     "text": [
      "Inside parent Constructor\n",
      "Buying a SmartPhone\n",
      "Buying a phone\n"
     ]
    }
   ],
   "source": [
    "class Phone:\n",
    "    def __init__(self, price, brand, camera):\n",
    "        print(\"Inside parent Constructor\")\n",
    "        self.__price = price\n",
    "        self.brand = brand\n",
    "        self.camera = camera\n",
    "\n",
    "    def buy(self):\n",
    "        print(\"Buying a phone\")\n",
    "\n",
    "class SmartPhone(Phone):\n",
    "    def buy(self):\n",
    "        print(\"Buying a SmartPhone\")\n",
    "        \n",
    "        super().buy() # syntax to call parent's buy method.\n",
    "\n",
    "s = SmartPhone(20000, \"Apple\", 13)\n",
    "s.buy()"
   ]
  },
  {
   "cell_type": "markdown",
   "id": "128751d4",
   "metadata": {},
   "source": [
    "Utility of Super => For calling parent's constructor method"
   ]
  },
  {
   "cell_type": "code",
   "execution_count": 38,
   "id": "d2879994",
   "metadata": {},
   "outputs": [
    {
     "name": "stdout",
     "output_type": "stream",
     "text": [
      "Inside parent Constructor\n",
      "Inside smartphone constructor\n",
      "Android\n",
      "Apple\n"
     ]
    }
   ],
   "source": [
    "# example:\n",
    "\n",
    "class Phone:\n",
    "    def __init__(self, price, brand, camera):\n",
    "        print(\"Inside parent Constructor\")\n",
    "        self.__price = price\n",
    "        self.brand = brand\n",
    "        self.camera = camera\n",
    "\n",
    "\n",
    "class SmartPhone(Phone):\n",
    "\n",
    "    def __init__(self, price, brand, camera, ram, os):\n",
    "        super().__init__(price, brand, camera) # using super to call parent's constructor method\n",
    "        self.ram = ram\n",
    "        self.os = os\n",
    "        print(\"Inside smartphone constructor\")\n",
    "        \n",
    "s = SmartPhone(20000, \"Apple\", 13, 8, \"Android\")\n",
    "print(s.os)\n",
    "print(s.brand)\n"
   ]
  },
  {
   "cell_type": "code",
   "execution_count": 39,
   "id": "801d7133",
   "metadata": {},
   "outputs": [
    {
     "ename": "TypeError",
     "evalue": "SmartPhone.__init__() missing 2 required positional arguments: 'ram' and 'os'",
     "output_type": "error",
     "traceback": [
      "\u001b[1;31m---------------------------------------------------------------------------\u001b[0m",
      "\u001b[1;31mTypeError\u001b[0m                                 Traceback (most recent call last)",
      "Cell \u001b[1;32mIn[39], line 19\u001b[0m\n\u001b[0;32m     16\u001b[0m         \u001b[38;5;28;01mdef\u001b[39;00m\u001b[38;5;250m \u001b[39m\u001b[38;5;21mbuy\u001b[39m():\n\u001b[0;32m     17\u001b[0m             \u001b[38;5;28mprint\u001b[39m(\u001b[38;5;124m\"\u001b[39m\u001b[38;5;124mSmartphone Bought.\u001b[39m\u001b[38;5;124m\"\u001b[39m)\n\u001b[1;32m---> 19\u001b[0m s \u001b[38;5;241m=\u001b[39m \u001b[43mSmartPhone\u001b[49m\u001b[43m(\u001b[49m\u001b[38;5;241;43m20000\u001b[39;49m\u001b[43m,\u001b[49m\u001b[43m \u001b[49m\u001b[38;5;124;43m\"\u001b[39;49m\u001b[38;5;124;43mApple\u001b[39;49m\u001b[38;5;124;43m\"\u001b[39;49m\u001b[43m,\u001b[49m\u001b[43m \u001b[49m\u001b[38;5;241;43m13\u001b[39;49m\u001b[43m)\u001b[49m\n\u001b[0;32m     20\u001b[0m s\u001b[38;5;241m.\u001b[39msuper()\u001b[38;5;241m.\u001b[39mbuy()\n",
      "\u001b[1;31mTypeError\u001b[0m: SmartPhone.__init__() missing 2 required positional arguments: 'ram' and 'os'"
     ]
    }
   ],
   "source": [
    "# using super() outside class:\n",
    "\n",
    "# example:\n",
    "\n",
    "class Phone:\n",
    "    def __init__(self, price, brand, camera):\n",
    "        print(\"Inside parent Constructor\")\n",
    "        self.__price = price\n",
    "        self.brand = brand\n",
    "        self.camera = camera\n",
    "\n",
    "\n",
    "class SmartPhone(Phone):\n",
    "\n",
    "    def __init__(self, price, brand, camera, ram, os):\n",
    "        def buy():\n",
    "            print(\"Smartphone Bought.\")\n",
    "        \n",
    "s = SmartPhone(20000, \"Apple\", 13)\n",
    "s.super().buy()"
   ]
  },
  {
   "cell_type": "markdown",
   "id": "f2485c84",
   "metadata": {},
   "source": [
    "Short answer => NO\n",
    "\n",
    "Super only used mostly in child class (inside)\n",
    "\n",
    "Also if you try to access attr of parent class => super().brand(): Even that wouldn't work. Super can only call __METHODS__"
   ]
  },
  {
   "cell_type": "markdown",
   "id": "4b96e437",
   "metadata": {},
   "source": [
    "__SUMMARY FOR INHERITANCE__\n",
    "\n",
    "- Class (child) can inherit from another class (parent).\n",
    "- Inheritance improves code reuse.\n",
    "- Constructor, attributes, methods can get inherited by the child class\n",
    "- Parent has no access to the child class\n",
    "- Private properties of parent class can't be inherited directly in the child class.\n",
    "- Child class can override the attributes or methods of parent class. Also known as method overriding.\n",
    "- super() is an inbuilt function used to invoke the parent class methods and constructors (strictly- Can't access the attributes and can't call from outside the child class)"
   ]
  },
  {
   "cell_type": "markdown",
   "id": "8ee19ed4",
   "metadata": {},
   "source": [
    "__TYPES OF INHERITANCE__\n",
    "\n",
    "- Single Inheritance\n",
    "- Multilevel Inheritance\n",
    "- Hierarchical Inheritance\n",
    "- Multiple Inheritance\n",
    "- Hybrid Inheritance"
   ]
  },
  {
   "cell_type": "code",
   "execution_count": 41,
   "id": "b71b6926",
   "metadata": {},
   "outputs": [
    {
     "name": "stdout",
     "output_type": "stream",
     "text": [
      "Inside parent Constructor\n",
      "Buying a phone\n"
     ]
    }
   ],
   "source": [
    "# Single Inheritance:\n",
    "\n",
    "class Phone:\n",
    "    def __init__(self, price, brand, camera):\n",
    "        print(\"Inside parent Constructor\")\n",
    "        self.__price = price\n",
    "        self.brand = brand\n",
    "        self.camera = camera\n",
    "    \n",
    "    def buy(self):\n",
    "        print(\"Buying a phone\")\n",
    "\n",
    "class SmartPhone(Phone):\n",
    "    pass\n",
    "\n",
    "SmartPhone(1000, \"Apple\", 13).buy()"
   ]
  },
  {
   "cell_type": "code",
   "execution_count": 44,
   "id": "37d025c1",
   "metadata": {},
   "outputs": [
    {
     "name": "stdout",
     "output_type": "stream",
     "text": [
      "Inside parent Constructor\n",
      "Buying a phone\n",
      "Product review\n"
     ]
    }
   ],
   "source": [
    "# Multilevel example:\n",
    "\n",
    "class Product:\n",
    "    def review(self):\n",
    "        print(\"Product review\")\n",
    "\n",
    "class Phone(Product):\n",
    "    def __init__(self, price, brand, camera):\n",
    "        print(\"Inside parent Constructor\")\n",
    "        self.__price = price\n",
    "        self.brand = brand\n",
    "        self.camera = camera\n",
    "    \n",
    "    def buy(self):\n",
    "        print(\"Buying a phone\")\n",
    "\n",
    "class SmartPhone(Phone):\n",
    "    pass\n",
    "\n",
    "s = SmartPhone(1000, \"Apple\", 13)\n",
    "\n",
    "s.buy()\n",
    "s.review()"
   ]
  },
  {
   "cell_type": "code",
   "execution_count": 45,
   "id": "fdd5bda8",
   "metadata": {},
   "outputs": [
    {
     "name": "stdout",
     "output_type": "stream",
     "text": [
      "Inside parent Constructor\n",
      "Buying a phone\n",
      "Inside parent Constructor\n",
      "Buying a phone\n"
     ]
    }
   ],
   "source": [
    "# Hierarchical Inheritance:\n",
    "\n",
    "class Phone():\n",
    "    def __init__(self, price, brand, camera):\n",
    "        print(\"Inside parent Constructor\")\n",
    "        self.__price = price\n",
    "        self.brand = brand\n",
    "        self.camera = camera\n",
    "    \n",
    "    def buy(self):\n",
    "        print(\"Buying a phone\")\n",
    "\n",
    "class SmartPhone(Phone):\n",
    "    pass\n",
    "\n",
    "class FeaturePhone(Phone):\n",
    "    pass\n",
    "\n",
    "SmartPhone(1000, \"Apple\", 13).buy()\n",
    "FeaturePhone(1000, \"Apple\", 13).buy()\n"
   ]
  },
  {
   "cell_type": "code",
   "execution_count": 46,
   "id": "9411d23d",
   "metadata": {},
   "outputs": [
    {
     "name": "stdout",
     "output_type": "stream",
     "text": [
      "Inside parent Constructor\n",
      "Buying a phone\n",
      "Product review\n"
     ]
    }
   ],
   "source": [
    "# Multiple Inheritance:\n",
    "\n",
    "class Product:\n",
    "    def review(self):\n",
    "        print(\"Product review\")\n",
    "\n",
    "class Phone:\n",
    "    def __init__(self, price, brand, camera):\n",
    "        print(\"Inside parent Constructor\")\n",
    "        self.__price = price\n",
    "        self.brand = brand\n",
    "        self.camera = camera\n",
    "    \n",
    "    def buy(self):\n",
    "        print(\"Buying a phone\")\n",
    "\n",
    "class SmartPhone(Phone, Product):\n",
    "    pass\n",
    "\n",
    "s = SmartPhone(1000, \"Apple\", 13)\n",
    "\n",
    "s.buy()\n",
    "s.review()"
   ]
  },
  {
   "cell_type": "markdown",
   "id": "b7cc7bc2",
   "metadata": {},
   "source": [
    "Multiple Inheritance doesn't work in Java, hence in it, this code wouldn't have run. Reason: this type brings ambiguity and can cause the Diamond problem"
   ]
  },
  {
   "cell_type": "code",
   "execution_count": 14,
   "id": "3af048dd",
   "metadata": {},
   "outputs": [
    {
     "name": "stdout",
     "output_type": "stream",
     "text": [
      "Inside parent Constructor\n",
      "Buying a phone\n"
     ]
    }
   ],
   "source": [
    "# Diamond Problem\n",
    "# Here the two parent classes both have buy() methods.\n",
    "class Product:\n",
    "    def buy(self):\n",
    "        print(\"Buying a phone\")\n",
    "\n",
    "class Phone:\n",
    "    def __init__(self, price, brand, camera):\n",
    "        print(\"Inside parent Constructor\")\n",
    "        self.__price = price\n",
    "        self.brand = brand\n",
    "        self.camera = camera\n",
    "    \n",
    "    def buy(self):\n",
    "        print(\"Buying a phone\")\n",
    "\n",
    "# method resolution order\n",
    "class SmartPhone(Phone, Product):\n",
    "    pass\n",
    "\n",
    "s = SmartPhone(1000, \"Apple\", 13)\n",
    "\n",
    "s.buy()"
   ]
  },
  {
   "cell_type": "markdown",
   "id": "fd38b435",
   "metadata": {},
   "source": [
    "How Python navigates this problem: Whichever class's name is written first. SmartPhone(Phone, Product) => Here it will be Phone"
   ]
  },
  {
   "cell_type": "markdown",
   "id": "15a5234b",
   "metadata": {},
   "source": [
    "This is known as MRO: Method Resolution Order"
   ]
  },
  {
   "cell_type": "code",
   "execution_count": 17,
   "id": "89eab1e0",
   "metadata": {},
   "outputs": [
    {
     "name": "stdout",
     "output_type": "stream",
     "text": [
      "70\n"
     ]
    }
   ],
   "source": [
    "# examples of inheritance:\n",
    "\n",
    "class A:\n",
    "    def m1(self):\n",
    "        return 20\n",
    "class B(A):\n",
    "    def m1(self):\n",
    "        return 30\n",
    "    \n",
    "    def m2(self):\n",
    "        return 40\n",
    "class C(B):\n",
    "    def m2(self):\n",
    "        return 20\n",
    "    \n",
    "ob1 = A()\n",
    "ob2 = B()\n",
    "ob3 = C()\n",
    "\n",
    "print(ob3.m1()+ob1.m1()+ob3.m2())"
   ]
  },
  {
   "cell_type": "code",
   "execution_count": null,
   "id": "1e74f2f2",
   "metadata": {},
   "outputs": [
    {
     "ename": "RecursionError",
     "evalue": "maximum recursion depth exceeded",
     "output_type": "error",
     "traceback": [
      "\u001b[1;31m---------------------------------------------------------------------------\u001b[0m",
      "\u001b[1;31mRecursionError\u001b[0m                            Traceback (most recent call last)",
      "Cell \u001b[1;32mIn[18], line 16\u001b[0m\n\u001b[0;32m     13\u001b[0m         \u001b[38;5;28;01mreturn\u001b[39;00m val\n\u001b[0;32m     15\u001b[0m obj \u001b[38;5;241m=\u001b[39m C()\n\u001b[1;32m---> 16\u001b[0m \u001b[38;5;28mprint\u001b[39m(\u001b[43mobj\u001b[49m\u001b[38;5;241;43m.\u001b[39;49m\u001b[43mm1\u001b[49m\u001b[43m(\u001b[49m\u001b[43m)\u001b[49m)\n",
      "Cell \u001b[1;32mIn[18], line 12\u001b[0m, in \u001b[0;36mC.m1\u001b[1;34m(self)\u001b[0m\n\u001b[0;32m     11\u001b[0m \u001b[38;5;28;01mdef\u001b[39;00m\u001b[38;5;250m \u001b[39m\u001b[38;5;21mm1\u001b[39m(\u001b[38;5;28mself\u001b[39m):\n\u001b[1;32m---> 12\u001b[0m     val \u001b[38;5;241m=\u001b[39m \u001b[38;5;28;43mself\u001b[39;49m\u001b[38;5;241;43m.\u001b[39;49m\u001b[43mm1\u001b[49m\u001b[43m(\u001b[49m\u001b[43m)\u001b[49m\u001b[38;5;241m+\u001b[39m\u001b[38;5;241m20\u001b[39m\n\u001b[0;32m     13\u001b[0m     \u001b[38;5;28;01mreturn\u001b[39;00m val\n",
      "Cell \u001b[1;32mIn[18], line 12\u001b[0m, in \u001b[0;36mC.m1\u001b[1;34m(self)\u001b[0m\n\u001b[0;32m     11\u001b[0m \u001b[38;5;28;01mdef\u001b[39;00m\u001b[38;5;250m \u001b[39m\u001b[38;5;21mm1\u001b[39m(\u001b[38;5;28mself\u001b[39m):\n\u001b[1;32m---> 12\u001b[0m     val \u001b[38;5;241m=\u001b[39m \u001b[38;5;28;43mself\u001b[39;49m\u001b[38;5;241;43m.\u001b[39;49m\u001b[43mm1\u001b[49m\u001b[43m(\u001b[49m\u001b[43m)\u001b[49m\u001b[38;5;241m+\u001b[39m\u001b[38;5;241m20\u001b[39m\n\u001b[0;32m     13\u001b[0m     \u001b[38;5;28;01mreturn\u001b[39;00m val\n",
      "    \u001b[1;31m[... skipping similar frames: C.m1 at line 12 (2974 times)]\u001b[0m\n",
      "Cell \u001b[1;32mIn[18], line 12\u001b[0m, in \u001b[0;36mC.m1\u001b[1;34m(self)\u001b[0m\n\u001b[0;32m     11\u001b[0m \u001b[38;5;28;01mdef\u001b[39;00m\u001b[38;5;250m \u001b[39m\u001b[38;5;21mm1\u001b[39m(\u001b[38;5;28mself\u001b[39m):\n\u001b[1;32m---> 12\u001b[0m     val \u001b[38;5;241m=\u001b[39m \u001b[38;5;28;43mself\u001b[39;49m\u001b[38;5;241;43m.\u001b[39;49m\u001b[43mm1\u001b[49m\u001b[43m(\u001b[49m\u001b[43m)\u001b[49m\u001b[38;5;241m+\u001b[39m\u001b[38;5;241m20\u001b[39m\n\u001b[0;32m     13\u001b[0m     \u001b[38;5;28;01mreturn\u001b[39;00m val\n",
      "\u001b[1;31mRecursionError\u001b[0m: maximum recursion depth exceeded"
     ]
    }
   ],
   "source": [
    "class A:\n",
    "    def m1(self):\n",
    "        return 20\n",
    "\n",
    "class B(A):\n",
    "    def m1(self):\n",
    "        val = super().m1()+30\n",
    "        return val\n",
    "\n",
    "class C(B):\n",
    "    def m1(self):\n",
    "        val = self.m1()+20 #error due to this rule\n",
    "        return val\n",
    "    \n",
    "obj = C()\n",
    "print(obj.m1())"
   ]
  }
 ],
 "metadata": {
  "kernelspec": {
   "display_name": "Python 3",
   "language": "python",
   "name": "python3"
  },
  "language_info": {
   "codemirror_mode": {
    "name": "ipython",
    "version": 3
   },
   "file_extension": ".py",
   "mimetype": "text/x-python",
   "name": "python",
   "nbconvert_exporter": "python",
   "pygments_lexer": "ipython3",
   "version": "3.13.5"
  }
 },
 "nbformat": 4,
 "nbformat_minor": 5
}
