{
 "cells": [
  {
   "cell_type": "markdown",
   "id": "5c965884",
   "metadata": {},
   "source": [
    "# Abstraction"
   ]
  },
  {
   "cell_type": "markdown",
   "id": "0779c028",
   "metadata": {},
   "source": [
    "Means => Hidden"
   ]
  },
  {
   "cell_type": "markdown",
   "id": "99fed78e",
   "metadata": {},
   "source": [
    "For eg. Take your laptop. So much of the building method and mechanisms are not given to user. These are hidden within the laptop. We only use from the surface (keyboard, trackpad and monitor), that's all. This is known as Abstraction"
   ]
  },
  {
   "cell_type": "code",
   "execution_count": 12,
   "id": "a0c48b28",
   "metadata": {},
   "outputs": [],
   "source": [
    "# example\n",
    "from abc import ABC, abstractmethod\n",
    "# abc => abstract based classes module.\n",
    "\n",
    "class BankApp(ABC): # abstract class => by inheriting ABC only.\n",
    "\n",
    "    def database(self):\n",
    "        print(\"Connected to Database\")\n",
    "\n",
    "    @abstractmethod\n",
    "    def security(self): # this is an abstract method\n",
    "        pass"
   ]
  },
  {
   "cell_type": "code",
   "execution_count": 13,
   "id": "b5d8ca08",
   "metadata": {},
   "outputs": [
    {
     "ename": "TypeError",
     "evalue": "Can't instantiate abstract class MobileApp without an implementation for abstract method 'security'",
     "output_type": "error",
     "traceback": [
      "\u001b[1;31m---------------------------------------------------------------------------\u001b[0m",
      "\u001b[1;31mTypeError\u001b[0m                                 Traceback (most recent call last)",
      "Cell \u001b[1;32mIn[13], line 13\u001b[0m\n\u001b[0;32m      9\u001b[0m         \u001b[38;5;28mprint\u001b[39m(\u001b[38;5;124m\"\u001b[39m\u001b[38;5;124mLogged into mobile\u001b[39m\u001b[38;5;124m\"\u001b[39m)\n\u001b[0;32m     11\u001b[0m     \u001b[38;5;66;03m# so if we try to make an object without using security method:\u001b[39;00m\n\u001b[1;32m---> 13\u001b[0m onj \u001b[38;5;241m=\u001b[39m \u001b[43mMobileApp\u001b[49m\u001b[43m(\u001b[49m\u001b[43m)\u001b[49m\n",
      "\u001b[1;31mTypeError\u001b[0m: Can't instantiate abstract class MobileApp without an implementation for abstract method 'security'"
     ]
    }
   ],
   "source": [
    "class MobileApp(BankApp):\n",
    "    \n",
    "    # we inherited from bankapp to use database method.\n",
    "\n",
    "    # For security reasons, a security implementation method is to be called.\n",
    "\n",
    "\n",
    "    def mobile_login(self):\n",
    "        print(\"Logged into mobile\")\n",
    "\n",
    "    # so if we try to make an object without using security method:\n",
    "\n",
    "onj = MobileApp()"
   ]
  },
  {
   "cell_type": "code",
   "execution_count": null,
   "id": "632316c4",
   "metadata": {},
   "outputs": [],
   "source": [
    "# Hence we must add the abstract method to child class :\n",
    "\n",
    "class MobileApp(BankApp):\n",
    "    \n",
    "    def security(self):\n",
    "        print(\"secure\")\n",
    "\n",
    "    def mobile_login(self):\n",
    "        print(\"Logged into mobile\")\n",
    "        \n",
    "onj = MobileApp() "
   ]
  },
  {
   "cell_type": "markdown",
   "id": "27e329ed",
   "metadata": {},
   "source": [
    "And LO! It works now. This is the usecase of Abstraction."
   ]
  },
  {
   "cell_type": "markdown",
   "id": "6fe93c6e",
   "metadata": {},
   "source": [
    "Methods:\n",
    "- Concrete: Which have code in it\n",
    "- Abstract: Don't have any code"
   ]
  },
  {
   "cell_type": "markdown",
   "id": "15fab47e",
   "metadata": {},
   "source": [
    "So basically, using Abstraction, a higher level class can make some boundations on lower level classes to function.\n",
    "This is done so as to control the functionality of low level classes from high level classes."
   ]
  },
  {
   "cell_type": "markdown",
   "id": "ffce63d6",
   "metadata": {},
   "source": [
    "Also, from an abstract class, we cant make an onject"
   ]
  },
  {
   "cell_type": "markdown",
   "id": "4d65545c",
   "metadata": {},
   "source": [
    "[This is one of the least used OOP principle as well]"
   ]
  }
 ],
 "metadata": {
  "kernelspec": {
   "display_name": "Python 3",
   "language": "python",
   "name": "python3"
  },
  "language_info": {
   "codemirror_mode": {
    "name": "ipython",
    "version": 3
   },
   "file_extension": ".py",
   "mimetype": "text/x-python",
   "name": "python",
   "nbconvert_exporter": "python",
   "pygments_lexer": "ipython3",
   "version": "3.13.5"
  }
 },
 "nbformat": 4,
 "nbformat_minor": 5
}
