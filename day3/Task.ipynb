{
  "cells": [
    {
      "cell_type": "markdown",
      "metadata": {
        "id": "BCleRtX43caS"
      },
      "source": [
        "### `Problem-1:` Class inheritence\n",
        "\n",
        "Create a **Bus** child class that inherits from the Vehicle class. The default fare charge of any vehicle is seating capacity * 100. If Vehicle is Bus instance, we need to add an extra 10% on full fare as a maintenance charge. So total fare for bus instance will become the final amount = total fare + 10% of the total fare.\n",
        "\n",
        "Note: The bus seating capacity is 50. so the final fare amount should be 5500. You need to override the fare() method of a Vehicle class in Bus class."
      ]
    },
    {
      "cell_type": "code",
      "execution_count": 15,
      "metadata": {
        "colab": {
          "base_uri": "https://localhost:8080/"
        },
        "id": "6jVFCXKz3YZI",
        "outputId": "a8649209-08e2-4f60-a914-74a914dd697e"
      },
      "outputs": [
        {
          "data": {
            "text/plain": [
              "5500.0"
            ]
          },
          "execution_count": 15,
          "metadata": {},
          "output_type": "execute_result"
        }
      ],
      "source": [
        "# Write code here\n",
        "class Vehicle:\n",
        "    def __init__(self, seating_capacity):\n",
        "        self.__sc = seating_capacity\n",
        "\n",
        "    def total_fare(self):\n",
        "        return 100*self.__sc\n",
        "\n",
        "class Bus(Vehicle):\n",
        "    \n",
        "    def total_fare(self):\n",
        "        return super().total_fare() + super().total_fare()*(0.1)\n",
        "    \n",
        "vh = Bus(50)\n",
        "vh.total_fare()"
      ]
    },
    {
      "cell_type": "markdown",
      "metadata": {
        "id": "KBbGNTtQ47mJ"
      },
      "source": [
        "### `Problem-2:` Class Inheritence\n",
        "\n",
        "Create a Bus class that inherits from the Vehicle class. Give the capacity argument of *Bus.seating_capacity()* a default value of 50.\n",
        "\n",
        "Use the following code for your parent Vehicle class."
      ]
    },
    {
      "cell_type": "code",
      "execution_count": null,
      "metadata": {
        "id": "MwOnYE_14M-r"
      },
      "outputs": [],
      "source": [
        "# CODE IS NOT GIVEN SO SKIPPED QUESTION"
      ]
    },
    {
      "cell_type": "markdown",
      "metadata": {
        "id": "ExIxsv4y-oEd"
      },
      "source": [
        "### `Problem-3:` Write a program that has a class Point. Define another class Location which has two objects (Location & Destination) of class Point. Also define a function in Location that prints the reflection of Destination on the x axis."
      ]
    },
    {
      "cell_type": "code",
      "execution_count": 28,
      "metadata": {
        "id": "yT2QtzQp5VAB"
      },
      "outputs": [
        {
          "name": "stdout",
          "output_type": "stream",
          "text": [
            "(1,2)\n",
            "(3,4)\n",
            "(3,-4)\n"
          ]
        }
      ],
      "source": [
        "class Point:\n",
        "    def __init__(self, x, y):\n",
        "        self.x = x\n",
        "        self.y = y\n",
        "    def show_point(self):\n",
        "        return \"({},{})\".format(self.x,self.y)\n",
        "\n",
        "class Location:\n",
        "\n",
        "    def __init__(self, x1,y1,x2,y2):\n",
        "        self.loc = Point(x1,y1)\n",
        "        self.dest= Point(x2,y2)\n",
        "\n",
        "    def show(self):\n",
        "        print(self.loc.show_point())\n",
        "        print(self.dest.show_point())\n",
        "\n",
        "    def get_reflection(self):\n",
        "        self.dest.y = -self.dest.y\n",
        "    \n",
        "        print(self.dest.show_point())\n",
        "\n",
        "\n",
        "loc = Location(1,2,3,4)\n",
        "loc.show()\n",
        "loc.get_reflection()"
      ]
    },
    {
      "cell_type": "markdown",
      "metadata": {
        "id": "OcQhJvXVALgp"
      },
      "source": [
        "### `Problem-4:` Write a program that has an abstract class Polygon. Derive two classes Rectangle and Triamgle from Polygon and write methods to get the details of their dimensions and hence calculate the area."
      ]
    },
    {
      "cell_type": "code",
      "execution_count": 33,
      "metadata": {
        "id": "9IMrtdUH__eA"
      },
      "outputs": [
        {
          "name": "stdout",
          "output_type": "stream",
          "text": [
            "Area of Rectangle: 20\n",
            "Area of Triangle: 10.0\n"
          ]
        }
      ],
      "source": [
        "from abc import ABC, abstractmethod\n",
        "\n",
        "class Polygon(ABC):\n",
        "    \n",
        "    @abstractmethod\n",
        "    def get_data():\n",
        "        pass\n",
        "    \n",
        "    @abstractmethod\n",
        "    def area():\n",
        "        pass\n",
        "\n",
        "class Rectangle(Polygon):\n",
        "\n",
        "    def get_data(self,l, b):\n",
        "        self.l = l\n",
        "        self.b = b\n",
        "    \n",
        "    def area(self):\n",
        "        print(\"Area of Rectangle: {}\".format(self.l * self.b))\n",
        "\n",
        "class Triangle(Polygon):\n",
        "\n",
        "    def get_data(self,b, h):\n",
        "        self.h = h\n",
        "        self.b = b\n",
        "    \n",
        "    def area(self):\n",
        "        print(\"Area of Triangle: {}\".format(self.b * self.h * 0.5))\n",
        "\n",
        "\n",
        "rect = Rectangle()\n",
        "tri = Triangle()\n",
        "\n",
        "rect.get_data(4,5)\n",
        "tri.get_data(4,5)\n",
        "rect.area()\n",
        "tri.area()"
      ]
    },
    {
      "cell_type": "markdown",
      "metadata": {
        "id": "sEsGEqOHCSWG"
      },
      "source": [
        "### `Problem-5:` Write a program with class Bill. The users have the option to pay the bill either by cheque or by cash. Use the inheritance to model this situation."
      ]
    },
    {
      "cell_type": "code",
      "execution_count": 73,
      "metadata": {
        "id": "l0WFyP2PB3nf"
      },
      "outputs": [],
      "source": [
        "class Bill:\n",
        "    def __init__(self, items, amount):\n",
        "        self.items = items\n",
        "        self.amt = amount\n",
        "        self.total = 0\n",
        "        \n",
        "        for i in self.amt:\n",
        "            self.total += i\n",
        "    \n",
        "    def display(self):\n",
        "        print(\"ITEMS \\t\\t\\t PRICE\")\n",
        "        print(\"_\"*30)\n",
        "        for i in range(len(self.items)):\n",
        "            if(i==2):\n",
        "                print(self.items[i],\"_\"*16 ,self.amt[i])\n",
        "            else:\n",
        "                print(self.items[i],\"_\"*20 ,self.amt[i])\n",
        "        print(\"_\"*30)\n",
        "        print(\"TOTAL: \", self.total)\n",
        "\n",
        "class Cash(Bill):\n",
        "    def __init__(self, items, amount, denomination, value):\n",
        "        super().__init__(items, amount)\n",
        "        self.deno = denomination\n",
        "        self.val = value\n",
        "\n",
        "    def show_cash_payment(self):\n",
        "        super().display()\n",
        "        for i in range(len(self.deno)):\n",
        "            print(self.deno[i],\"*\",self.val[i],\"=\",(self.deno[i]*self.val[i]))\n",
        "\n",
        "    def payment(self):\n",
        "        print(\"Payment method: Cheque\")\n",
        "\n",
        "class Cheque(Bill):\n",
        "    def __init__(self, items, amount, cheque_Num, Name):\n",
        "        super().__init__(items, amount)\n",
        "        self.cno = cheque_Num\n",
        "        self.name = Name\n",
        "\n",
        "    def show_cheque_payment(self):\n",
        "        super().display()\n",
        "        print(\"Name of Bank: \", self.name)\n",
        "        print(\"Cheque Number: \", self.cno)"
      ]
    },
    {
      "cell_type": "code",
      "execution_count": null,
      "metadata": {},
      "outputs": [
        {
          "name": "stdout",
          "output_type": "stream",
          "text": [
            "ITEMS \t\t\t PRICE\n",
            "______________________________\n",
            "HDD ____________________ 5000\n",
            "RAM ____________________ 2000\n",
            "Printer ________________ 20000\n",
            "USB ____________________ 800\n",
            "______________________________\n",
            "TOTAL:  27800\n"
          ]
        }
      ],
      "source": [
        "items = [\"HDD\", \"RAM\", \"Printer\", \"USB\"]\n",
        "price = [5000, 2000, 20000, 800]\n",
        "\n",
        "bill = Bill(items, price)\n",
        "bill.display()\n"
      ]
    },
    {
      "cell_type": "code",
      "execution_count": 75,
      "metadata": {},
      "outputs": [
        {
          "name": "stdout",
          "output_type": "stream",
          "text": [
            "ITEMS \t\t\t PRICE\n",
            "______________________________\n",
            "HDD ____________________ 5000\n",
            "RAM ____________________ 2000\n",
            "Printer ________________ 20000\n",
            "USB ____________________ 800\n",
            "______________________________\n",
            "TOTAL:  27800\n",
            "10 * 1 = 10\n",
            "20 * 1 = 20\n",
            "50 * 1 = 50\n",
            "100 * 20 = 2000\n",
            "500 * 4 = 2000\n",
            "2000 * 5 = 10000\n"
          ]
        }
      ],
      "source": [
        "\n",
        "deno = [10,20,50,100,500,2000]\n",
        "value= [1, 1, 1, 20, 4, 5]\n",
        "\n",
        "cash = Cash(items, price, deno, value)\n",
        "cash.show_cash_payment()\n"
      ]
    },
    {
      "cell_type": "code",
      "execution_count": 76,
      "metadata": {},
      "outputs": [
        {
          "name": "stdout",
          "output_type": "stream",
          "text": [
            "ITEMS \t\t\t PRICE\n",
            "______________________________\n",
            "HDD ____________________ 5000\n",
            "RAM ____________________ 2000\n",
            "Printer ________________ 20000\n",
            "USB ____________________ 800\n",
            "______________________________\n",
            "TOTAL:  27800\n",
            "Name of Bank:  PnB\n",
            "Cheque Number:  644600\n"
          ]
        }
      ],
      "source": [
        "cheque = Cheque(items, price, 644600 ,\"PnB\")\n",
        "cheque.show_cheque_payment()"
      ]
    },
    {
      "cell_type": "code",
      "execution_count": 77,
      "metadata": {},
      "outputs": [
        {
          "name": "stdout",
          "output_type": "stream",
          "text": [
            "ITEMS \t\t\t PRICE\n",
            "______________________________\n",
            "HDD ____________________ 5000\n",
            "RAM ____________________ 2000\n",
            "Printer ________________ 20000\n",
            "USB ____________________ 800\n",
            "______________________________\n",
            "TOTAL:  27800\n",
            "10 * 1 = 10\n",
            "20 * 1 = 20\n",
            "50 * 1 = 50\n",
            "100 * 20 = 2000\n",
            "500 * 4 = 2000\n",
            "2000 * 5 = 10000\n"
          ]
        }
      ],
      "source": [
        "# Lets have a look at the driver code:\n",
        "\n",
        "items = [\"HDD\", \"RAM\", \"Printer\", \"USB\"]\n",
        "price = [5000, 2000, 20000, 800]\n",
        "\n",
        "option = int(input(\"Payment method: \\n- Cash (type 1) \\n- Cheque (type 2)\"))\n",
        "\n",
        "if option == 1:\n",
        "    deno = [10,20,50,100,500,2000]\n",
        "    value= [1, 1, 1, 20, 4, 5]\n",
        "    cash = Cash(items, price, deno, value)\n",
        "    cash.show_cash_payment()\n",
        "\n",
        "else:\n",
        "    name = input(\"Enter Bank Name: \")\n",
        "    cno = input(\"Enter cheque number: \")\n",
        "    cheque = Cheque(items, price, cno , name)\n",
        "    cheque.show_cheque_payment()"
      ]
    },
    {
      "cell_type": "code",
      "execution_count": 78,
      "metadata": {},
      "outputs": [
        {
          "name": "stdout",
          "output_type": "stream",
          "text": [
            "ITEMS \t\t\t PRICE\n",
            "______________________________\n",
            "HDD ____________________ 5000\n",
            "RAM ____________________ 2000\n",
            "Printer ________________ 20000\n",
            "USB ____________________ 800\n",
            "______________________________\n",
            "TOTAL:  27800\n",
            "Name of Bank:  PnB\n",
            "Cheque Number:  644600\n"
          ]
        }
      ],
      "source": [
        "# Lets have a look at the driver code:\n",
        "\n",
        "items = [\"HDD\", \"RAM\", \"Printer\", \"USB\"]\n",
        "price = [5000, 2000, 20000, 800]\n",
        "\n",
        "option = int(input(\"Payment method: \\n- Cash (type 1) \\n- Cheque (type 2)\"))\n",
        "\n",
        "if option == 1:\n",
        "    deno = [10,20,50,100,500,2000]\n",
        "    value= [1, 1, 1, 20, 4, 5]\n",
        "    cash = Cash(items, price, deno, value)\n",
        "    cash.show_cash_payment()\n",
        "\n",
        "else:\n",
        "    name = input(\"Enter Bank Name: \")\n",
        "    cno = input(\"Enter cheque number: \")\n",
        "    cheque = Cheque(items, price, cno , name)\n",
        "    cheque.show_cheque_payment()"
      ]
    },
    {
      "cell_type": "markdown",
      "metadata": {
        "id": "v1M5Yh9ZZO0z"
      },
      "source": [
        "###`Q-6:` FlexibleDict\n",
        "As of now we are accessing values from dictionary with exact keys. Now we want to amend accessing values functionality. if a dict have key `1` (int) the even if we try to access values by giving `'1'` (1 as str) as key, we should get the same result and vice versa.\n",
        "\n",
        "Write a class `FlexibleDict` upon builtin `dict` class with above required functionality.\n",
        "\n",
        "Hint- `dict[key] => dict.__getitem__(key)`"
      ]
    },
    {
      "cell_type": "markdown",
      "metadata": {
        "id": "uajGeWegbfda"
      },
      "source": [
        "Ex.\n",
        "```\n",
        "fd = FlexibleDict()\n",
        "fd['a'] = 100\n",
        "print(fd['a']) # Like regular dict\n",
        "\n",
        "fd[5] = 500\n",
        "print(fd[5]) # Like regular dict\n",
        "\n",
        "fd[1] = 100\n",
        "print(fd['1']) # actual Key is int but still trying to access through str key.\n",
        "fd['1'] = 100\n",
        "print(fd[1])\n",
        "\n",
        "```\n",
        "`Output:`\n",
        "```\n",
        "100\n",
        "500\n",
        "100\n",
        "100\n",
        "\n",
        "```"
      ]
    },
    {
      "cell_type": "code",
      "execution_count": null,
      "metadata": {
        "id": "OHLbOtCxZ2nw"
      },
      "outputs": [],
      "source": [
        "# Not rn"
      ]
    }
  ],
  "metadata": {
    "colab": {
      "collapsed_sections": [
        "BCleRtX43caS",
        "KBbGNTtQ47mJ",
        "ExIxsv4y-oEd",
        "OcQhJvXVALgp",
        "sEsGEqOHCSWG",
        "v1M5Yh9ZZO0z"
      ],
      "provenance": []
    },
    "kernelspec": {
      "display_name": "Python 3",
      "name": "python3"
    },
    "language_info": {
      "codemirror_mode": {
        "name": "ipython",
        "version": 3
      },
      "file_extension": ".py",
      "mimetype": "text/x-python",
      "name": "python",
      "nbconvert_exporter": "python",
      "pygments_lexer": "ipython3",
      "version": "3.13.5"
    }
  },
  "nbformat": 4,
  "nbformat_minor": 0
}
