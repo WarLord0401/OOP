{
 "cells": [
  {
   "cell_type": "markdown",
   "id": "610795ed",
   "metadata": {},
   "source": [
    "# Aggregation"
   ]
  },
  {
   "cell_type": "markdown",
   "id": "2e98ac79",
   "metadata": {},
   "source": [
    "This means in basic terms: One class owns another class."
   ]
  },
  {
   "cell_type": "markdown",
   "id": "e01c89f3",
   "metadata": {},
   "source": [
    "The classes have a \"Has a\" relationship\n",
    "\n",
    "Eg: Restaurant (class) has a Menu (class)"
   ]
  },
  {
   "cell_type": "code",
   "execution_count": 3,
   "id": "c95a7ee6",
   "metadata": {},
   "outputs": [],
   "source": [
    "# example\n",
    "class Customer:\n",
    "    def __init__(self, name, gender, address):\n",
    "        self.name = name\n",
    "        self.gender = gender\n",
    "        self.address = address\n",
    "\n",
    "    def print_address(self):\n",
    "        print(self.address.city, self.address.state, self.address.pin)\n",
    "\n",
    "class Address:\n",
    "    def __init__(self, city, pin, state):\n",
    "        self.city = city\n",
    "        self.pin = pin\n",
    "        self.state = state\n",
    "\n",
    "add1 = Address(\"Bulandshahr\", 203001, \"UP\")\n",
    "\n",
    "cust = Customer(\"Kanishk\", \"Male\", add1)"
   ]
  },
  {
   "cell_type": "code",
   "execution_count": 4,
   "id": "3ba3132e",
   "metadata": {},
   "outputs": [
    {
     "name": "stdout",
     "output_type": "stream",
     "text": [
      "Bulandshahr UP 203001\n"
     ]
    }
   ],
   "source": [
    "cust.print_address()"
   ]
  },
  {
   "cell_type": "markdown",
   "id": "2d1c2d7f",
   "metadata": {},
   "source": [
    "So we had a class customer, in whose constructor we called another class's object. This is known as aggregation"
   ]
  },
  {
   "cell_type": "code",
   "execution_count": 7,
   "id": "13a37e82",
   "metadata": {},
   "outputs": [],
   "source": [
    "# What if I privatize the city variable in Address class? Will aggregation work? Let's see:\n",
    "\n",
    "class Customer:\n",
    "    def __init__(self, name, gender, address):\n",
    "        self.name = name\n",
    "        self.gender = gender\n",
    "        self.address = address\n",
    "\n",
    "    def print_address(self):\n",
    "        print(self.address.__city, self.address.state, self.address.pin)\n",
    "\n",
    "class Address:\n",
    "    def __init__(self, city, pin, state):\n",
    "        self.__city = city # Adding __ before city to make it private.\n",
    "        self.pin = pin\n",
    "        self.state = state\n",
    "\n",
    "add1 = Address(\"Bulandshahr\", 203001, \"UP\")\n",
    "\n",
    "cust = Customer(\"Kanishk\", \"Male\", add1)"
   ]
  },
  {
   "cell_type": "code",
   "execution_count": 8,
   "id": "bf10e9b9",
   "metadata": {},
   "outputs": [
    {
     "ename": "AttributeError",
     "evalue": "'Address' object has no attribute '_Customer__city'",
     "output_type": "error",
     "traceback": [
      "\u001b[1;31m---------------------------------------------------------------------------\u001b[0m",
      "\u001b[1;31mAttributeError\u001b[0m                            Traceback (most recent call last)",
      "Cell \u001b[1;32mIn[8], line 1\u001b[0m\n\u001b[1;32m----> 1\u001b[0m \u001b[43mcust\u001b[49m\u001b[38;5;241;43m.\u001b[39;49m\u001b[43mprint_address\u001b[49m\u001b[43m(\u001b[49m\u001b[43m)\u001b[49m\n",
      "Cell \u001b[1;32mIn[7], line 10\u001b[0m, in \u001b[0;36mCustomer.print_address\u001b[1;34m(self)\u001b[0m\n\u001b[0;32m      9\u001b[0m \u001b[38;5;28;01mdef\u001b[39;00m\u001b[38;5;250m \u001b[39m\u001b[38;5;21mprint_address\u001b[39m(\u001b[38;5;28mself\u001b[39m):\n\u001b[1;32m---> 10\u001b[0m     \u001b[38;5;28mprint\u001b[39m(\u001b[38;5;28;43mself\u001b[39;49m\u001b[38;5;241;43m.\u001b[39;49m\u001b[43maddress\u001b[49m\u001b[38;5;241;43m.\u001b[39;49m\u001b[43m__city\u001b[49m, \u001b[38;5;28mself\u001b[39m\u001b[38;5;241m.\u001b[39maddress\u001b[38;5;241m.\u001b[39mstate, \u001b[38;5;28mself\u001b[39m\u001b[38;5;241m.\u001b[39maddress\u001b[38;5;241m.\u001b[39mpin)\n",
      "\u001b[1;31mAttributeError\u001b[0m: 'Address' object has no attribute '_Customer__city'"
     ]
    }
   ],
   "source": [
    "cust.print_address()"
   ]
  },
  {
   "cell_type": "markdown",
   "id": "457039fe",
   "metadata": {},
   "source": [
    "So no, this wont work. We can't access private attributes while doing aggregation."
   ]
  },
  {
   "cell_type": "markdown",
   "id": "d9060a75",
   "metadata": {},
   "source": [
    "So technically, the class only owns the other class in a logical, not a technical manner"
   ]
  },
  {
   "cell_type": "code",
   "execution_count": 9,
   "id": "5343c719",
   "metadata": {},
   "outputs": [
    {
     "name": "stdout",
     "output_type": "stream",
     "text": [
      "Bulandshahr UP 203001\n"
     ]
    }
   ],
   "source": [
    "class Customer:\n",
    "    def __init__(self, name, gender, address):\n",
    "        self.name = name\n",
    "        self.gender = gender\n",
    "        self.address = address\n",
    "\n",
    "    def print_address(self):\n",
    "        print(self.address.get_city() , self.address.state, self.address.pin) # using method get_city() here instead of directly calling variable\n",
    "\n",
    "class Address:\n",
    "    def __init__(self, city, pin, state):\n",
    "        self.__city = city\n",
    "        self.pin = pin\n",
    "        self.state = state\n",
    "\n",
    "    def get_city(self): # Getter function\n",
    "        return self.__city\n",
    "\n",
    "add1 = Address(\"Bulandshahr\", 203001, \"UP\")\n",
    "cust = Customer(\"Kanishk\", \"Male\", add1)\n",
    "cust.print_address()\n"
   ]
  },
  {
   "cell_type": "markdown",
   "id": "8a049dbb",
   "metadata": {},
   "source": [
    "And there we go! It is working again :)"
   ]
  },
  {
   "cell_type": "code",
   "execution_count": 40,
   "id": "f75b907d",
   "metadata": {},
   "outputs": [],
   "source": [
    "# using methods smartly for aggregation:\n",
    "# Example: suppose a customer wants to edit his details. Now we could edit address object value then call in customeer object and edit there.\n",
    "# But this isn't smart. Instead make a edit_address method in Address class, edit values through it and directly call it in Customer class as shown:\n",
    "\n",
    "class Customer:\n",
    "    def __init__(self, name, gender, address):\n",
    "        self.name = name\n",
    "        self.gender = gender\n",
    "        self.address = address\n",
    "\n",
    "    def __str__(self):\n",
    "        return \"{}, {}, {}\".format(self.name, self.gender, self.address.get_address())\n",
    "\n",
    "    def edit_details(self, new_name, new_city, new_state, new_pin):\n",
    "        self.name = new_name\n",
    "        self.address.edit_address(new_city, new_state, new_pin)\n",
    "\n",
    "    def print_address(self):\n",
    "        print(self.address.get_city() , self.address.state, self.address.pin)\n",
    "\n",
    "class Address:\n",
    "    def __init__(self, city, pin, state):\n",
    "        self.__city = city\n",
    "        self.pin = pin\n",
    "        self.state = state\n",
    "\n",
    "    def get_address(self): # Getter function\n",
    "        return \"{}, {}, {}\".format(self.__city, self.state, self.pin)\n",
    "    \n",
    "    def edit_address(self, new_city, new_state, new_pin): # Edit address function\n",
    "        self.__city = new_city\n",
    "        self.state = new_state\n",
    "        self.pin = new_pin\n",
    "\n",
    "\n",
    "add1 = Address(\"Bulandshahr\", 203001, \"UP\")\n",
    "cust = Customer(\"Kanishk\", \"Male\", add1)\n"
   ]
  },
  {
   "cell_type": "code",
   "execution_count": 41,
   "id": "5d48067f",
   "metadata": {},
   "outputs": [
    {
     "name": "stdout",
     "output_type": "stream",
     "text": [
      "Kanishk, Male, Bulandshahr, UP, 203001\n"
     ]
    }
   ],
   "source": [
    "print(cust)"
   ]
  },
  {
   "cell_type": "code",
   "execution_count": 42,
   "id": "d954c040",
   "metadata": {},
   "outputs": [],
   "source": [
    "cust.edit_details(\"Dhruv\", \"Meerut\", \"UP\", 252001)"
   ]
  },
  {
   "cell_type": "code",
   "execution_count": 43,
   "id": "d13f07f7",
   "metadata": {},
   "outputs": [
    {
     "name": "stdout",
     "output_type": "stream",
     "text": [
      "Dhruv, Male, Meerut, UP, 252001\n"
     ]
    }
   ],
   "source": [
    "print(cust)"
   ]
  },
  {
   "cell_type": "code",
   "execution_count": null,
   "id": "a32cf463",
   "metadata": {},
   "outputs": [],
   "source": []
  }
 ],
 "metadata": {
  "kernelspec": {
   "display_name": "Python 3",
   "language": "python",
   "name": "python3"
  },
  "language_info": {
   "codemirror_mode": {
    "name": "ipython",
    "version": 3
   },
   "file_extension": ".py",
   "mimetype": "text/x-python",
   "name": "python",
   "nbconvert_exporter": "python",
   "pygments_lexer": "ipython3",
   "version": "3.13.5"
  }
 },
 "nbformat": 4,
 "nbformat_minor": 5
}
