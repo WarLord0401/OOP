{
 "cells": [
  {
   "cell_type": "markdown",
   "id": "95a9a750",
   "metadata": {},
   "source": [
    "# Polymorphism"
   ]
  },
  {
   "cell_type": "markdown",
   "id": "e857885e",
   "metadata": {},
   "source": [
    "Meaning => Having multiple faces/forms"
   ]
  },
  {
   "cell_type": "markdown",
   "id": "2ac60c82",
   "metadata": {},
   "source": [
    "- Method Overloading\n",
    "    - Two methods of same name inside a class but different parameters\n",
    "    - Why do this? => Two clean up the code and make the coding process more convenient"
   ]
  },
  {
   "cell_type": "code",
   "execution_count": 3,
   "id": "da2dc890",
   "metadata": {},
   "outputs": [
    {
     "ename": "TypeError",
     "evalue": "Shape.area() missing 1 required positional argument: 'breadth'",
     "output_type": "error",
     "traceback": [
      "\u001b[1;31m---------------------------------------------------------------------------\u001b[0m",
      "\u001b[1;31mTypeError\u001b[0m                                 Traceback (most recent call last)",
      "Cell \u001b[1;32mIn[3], line 12\u001b[0m\n\u001b[0;32m      8\u001b[0m         \u001b[38;5;28;01mreturn\u001b[39;00m length \u001b[38;5;241m*\u001b[39m breadth\n\u001b[0;32m     10\u001b[0m shape \u001b[38;5;241m=\u001b[39m Shape()\n\u001b[1;32m---> 12\u001b[0m \u001b[43mshape\u001b[49m\u001b[38;5;241;43m.\u001b[39;49m\u001b[43marea\u001b[49m\u001b[43m(\u001b[49m\u001b[38;5;241;43m3\u001b[39;49m\u001b[43m)\u001b[49m\n\u001b[0;32m     14\u001b[0m shape\u001b[38;5;241m.\u001b[39marea(\u001b[38;5;241m3\u001b[39m,\u001b[38;5;241m4\u001b[39m)\n",
      "\u001b[1;31mTypeError\u001b[0m: Shape.area() missing 1 required positional argument: 'breadth'"
     ]
    }
   ],
   "source": [
    "# example:\n",
    "\n",
    "class Shape:\n",
    "    def area(self, radius):\n",
    "        return 3.14*(radius**2)\n",
    "    \n",
    "    def area(self, length, breadth):\n",
    "        return length * breadth\n",
    "    \n",
    "shape = Shape()\n",
    "\n",
    "shape.area(3)\n",
    "\n",
    "shape.area(3,4)\n"
   ]
  },
  {
   "cell_type": "markdown",
   "id": "dea20a69",
   "metadata": {},
   "source": [
    "But what happened? IN JAVA THIS WOULD HAVE WORKED. Why did it not work here?"
   ]
  },
  {
   "cell_type": "markdown",
   "id": "fd56b4b8",
   "metadata": {},
   "source": [
    "__BECAUSE IN PYTHON THIS DOESN'T WORK__"
   ]
  },
  {
   "cell_type": "markdown",
   "id": "a37a880e",
   "metadata": {},
   "source": [
    "There is only an alternative method to implement it without writing new function names each time."
   ]
  },
  {
   "cell_type": "code",
   "execution_count": 6,
   "id": "d6d78a42",
   "metadata": {},
   "outputs": [
    {
     "name": "stdout",
     "output_type": "stream",
     "text": [
      "28.26\n",
      "12\n"
     ]
    }
   ],
   "source": [
    "# example of workaround:\n",
    "\n",
    "class Shape:\n",
    "    def area(self, a, b=0):\n",
    "        return 3.14*(a**2) if b==0 else a*b\n",
    "    \n",
    "shape = Shape()\n",
    "\n",
    "print(round(shape.area(3),2))\n",
    "\n",
    "print(shape.area(3,4))\n"
   ]
  },
  {
   "cell_type": "markdown",
   "id": "64ccfc8e",
   "metadata": {},
   "source": [
    "- Operator Overloading\n",
    "    - depending on input, the operation of operator changes. Look at below cases. + operator is joining, adding and merging respectively"
   ]
  },
  {
   "cell_type": "code",
   "execution_count": 7,
   "id": "9e9ff2a7",
   "metadata": {},
   "outputs": [
    {
     "data": {
      "text/plain": [
       "'helloword'"
      ]
     },
     "execution_count": 7,
     "metadata": {},
     "output_type": "execute_result"
    }
   ],
   "source": [
    "'hello' + 'word'"
   ]
  },
  {
   "cell_type": "code",
   "execution_count": 8,
   "id": "a7d7e489",
   "metadata": {},
   "outputs": [
    {
     "data": {
      "text/plain": [
       "9"
      ]
     },
     "execution_count": 8,
     "metadata": {},
     "output_type": "execute_result"
    }
   ],
   "source": [
    "4+5"
   ]
  },
  {
   "cell_type": "code",
   "execution_count": 9,
   "id": "946c39cc",
   "metadata": {},
   "outputs": [
    {
     "data": {
      "text/plain": [
       "[1, 2, 3, 4, 5]"
      ]
     },
     "execution_count": 9,
     "metadata": {},
     "output_type": "execute_result"
    }
   ],
   "source": [
    "[1,2,3] + [4,5]"
   ]
  },
  {
   "cell_type": "markdown",
   "id": "96750d37",
   "metadata": {},
   "source": [
    "Constructor overloading can be done by using magic methods: __add__() and others etc.\n",
    "\n",
    "\n",
    "- Method Overriding\n",
    "    - Simply the thing we studied in Inheritance."
   ]
  },
  {
   "cell_type": "markdown",
   "id": "f7ce8aae",
   "metadata": {},
   "source": []
  }
 ],
 "metadata": {
  "kernelspec": {
   "display_name": "Python 3",
   "language": "python",
   "name": "python3"
  },
  "language_info": {
   "codemirror_mode": {
    "name": "ipython",
    "version": 3
   },
   "file_extension": ".py",
   "mimetype": "text/x-python",
   "name": "python",
   "nbconvert_exporter": "python",
   "pygments_lexer": "ipython3",
   "version": "3.13.5"
  }
 },
 "nbformat": 4,
 "nbformat_minor": 5
}
