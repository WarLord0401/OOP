{
 "cells": [
  {
   "cell_type": "code",
   "execution_count": 119,
   "id": "e67d4f9f",
   "metadata": {},
   "outputs": [],
   "source": [
    "class Fraction:\n",
    "    # parameterized constructor\n",
    "    def __init__(self, x, y): #x: numerator, y: denominator\n",
    "        self.numerator = x\n",
    "        self.denominator = y\n",
    "\n",
    "    # this is simple example\n",
    "    # def display(self):\n",
    "    #     print(f\"{self.numerator}/{self.denominator}\")\n",
    "\n",
    "    # but we will use magic method: __str__()\n",
    "    def __str__(self):\n",
    "        # return f\"{self.numerator}/{self.denominator}\". But there is another return option as well\n",
    "        return '{}/{}'.format(self.numerator, self.denominator)\n",
    "    \n",
    "\n",
    "    #now, if we try to add any obj, it will throw an error cuz we havent defined it yet. Hence we have to make an addition method. For that we'll use a magic method: __add__()\n",
    "\n",
    "    def __add__(self, other): # whenever we do something like fr1+fr2, this will be called. If we defined a method, we would have to use it by calling it which is not a conventional and user-friendly way.\n",
    "        # print('add') this was to show that using + will call this immediately.\n",
    "        new_num = self.numerator * other.denominator + self.denominator * other.numerator\n",
    "        new_den = self.denominator * other.denominator\n",
    "        return '{}/{}'.format(new_num, new_den) # this will return a new object of Fraction\n",
    "\n",
    "    def __sub__(self, other): # whenever we do something like fr1-fr2, this will be called.\n",
    "        new_num = self.numerator * other.denominator - self.denominator * other.numerator\n",
    "        new_den = self.denominator * other.denominator\n",
    "        return '{}/{}'.format(new_num, new_den)\n",
    "\n",
    "    def __mul__(self, other): # whenever we do something like fr1*fr2, this will be called.\n",
    "        new_num = self.numerator * other.numerator\n",
    "        new_den = self.denominator * other.denominator\n",
    "        return '{}/{}'.format(new_num, new_den)\n",
    "\n",
    "    def __truediv__(self, other): # whenever we do something like fr1/fr2, this will be called.\n",
    "        new_num = self.numerator * other.denominator\n",
    "        new_den = self.denominator * other.numerator\n",
    "        return '{}/{}'.format(new_num, new_den)\n",
    "    \n",
    "    # let's convert to decimal\n",
    "    def to_decimal(self):\n",
    "        return self.numerator/self.denominator"
   ]
  },
  {
   "cell_type": "code",
   "execution_count": 120,
   "id": "2bfac854",
   "metadata": {},
   "outputs": [
    {
     "name": "stdout",
     "output_type": "stream",
     "text": [
      "3/4\n",
      "3\n",
      "4\n"
     ]
    }
   ],
   "source": [
    "fr1 = Fraction(3,4)\n",
    "print(fr1)\n",
    "print(fr1.numerator)\n",
    "print(fr1.denominator)"
   ]
  },
  {
   "cell_type": "code",
   "execution_count": 121,
   "id": "c42cf6bb",
   "metadata": {},
   "outputs": [
    {
     "name": "stdout",
     "output_type": "stream",
     "text": [
      "1/2\n",
      "1\n",
      "2\n"
     ]
    }
   ],
   "source": [
    "fr2 = Fraction(1,2)\n",
    "print(fr2)\n",
    "print(fr2.numerator)\n",
    "print(fr2.denominator)"
   ]
  },
  {
   "cell_type": "code",
   "execution_count": 122,
   "id": "6531afb4",
   "metadata": {},
   "outputs": [
    {
     "data": {
      "text/plain": [
       "'10/8'"
      ]
     },
     "execution_count": 122,
     "metadata": {},
     "output_type": "execute_result"
    }
   ],
   "source": [
    "fr1 + fr2  # this will call __add__ method and print 'add'"
   ]
  },
  {
   "cell_type": "code",
   "execution_count": 123,
   "id": "654e1ac5",
   "metadata": {},
   "outputs": [
    {
     "name": "stdout",
     "output_type": "stream",
     "text": [
      "10/8\n",
      "2/8\n",
      "3/8\n",
      "6/4\n"
     ]
    }
   ],
   "source": [
    "print(fr1 + fr2) # unsimplified addition\n",
    "print(fr1 - fr2) # unsimplified subtraction\n",
    "print(fr1 * fr2) # unsimplified multiplication\n",
    "print(fr1 / fr2) # unsimplified division"
   ]
  },
  {
   "cell_type": "code",
   "execution_count": 124,
   "id": "16621c3a",
   "metadata": {},
   "outputs": [
    {
     "data": {
      "text/plain": [
       "0.75"
      ]
     },
     "execution_count": 124,
     "metadata": {},
     "output_type": "execute_result"
    }
   ],
   "source": [
    "fr1.to_decimal()"
   ]
  }
 ],
 "metadata": {
  "kernelspec": {
   "display_name": "Python 3",
   "language": "python",
   "name": "python3"
  },
  "language_info": {
   "codemirror_mode": {
    "name": "ipython",
    "version": 3
   },
   "file_extension": ".py",
   "mimetype": "text/x-python",
   "name": "python",
   "nbconvert_exporter": "python",
   "pygments_lexer": "ipython3",
   "version": "3.13.5"
  }
 },
 "nbformat": 4,
 "nbformat_minor": 5
}
