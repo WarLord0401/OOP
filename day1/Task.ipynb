{
  "cells": [
    {
      "cell_type": "markdown",
      "metadata": {
        "id": "FyUJ3PRAsPr4"
      },
      "source": [
        "##`Q-1:` Rectangle Class\n",
        "1. Write a Rectangle class in Python language, allowing you to build a rectangle with length and width attributes.\n",
        "\n",
        "2. Create a Perimeter() method to calculate the perimeter of the rectangle and a Area() method to calculate the area of ​​the rectangle.\n",
        "\n",
        "3. Create a method display() that display the length, width, perimeter and area of an object created using an instantiation on rectangle class."
      ]
    },
    {
      "cell_type": "markdown",
      "metadata": {
        "id": "GxUtOqJfssFK"
      },
      "source": [
        "Eg.\n",
        "After making above classes and methods, on executing below code:-\n",
        "```\n",
        "my_rectangle = Rectangle(3 , 4)\n",
        "my_rectangle.display()\n",
        "```\n",
        "\n",
        "`Output:`\n",
        "```\n",
        "The length of rectangle is:  3\n",
        "The width of rectangle is:  4\n",
        "The perimeter of rectangle is:  14\n",
        "The area of rectangle is:  12\n",
        "```\n"
      ]
    },
    {
      "cell_type": "code",
      "execution_count": 72,
      "metadata": {
        "id": "92_QT-Uj6NBg"
      },
      "outputs": [],
      "source": [
        "# write your code here\n",
        "class Rectangle:\n",
        "    def __init__(self, length, width):\n",
        "        x = length\n",
        "        y = width\n",
        "\n",
        "        if x > y :\n",
        "            self.__length = x\n",
        "            self.__width = y\n",
        "        else:\n",
        "            self.__length = y\n",
        "            self.__width = x\n",
        "        \n",
        "    def __Perimeter(self):\n",
        "        return 2*(self.__length + self.__width)\n",
        "    \n",
        "    def __Area(self):\n",
        "        return self.__length*self.__width\n",
        "    \n",
        "    def display(self):\n",
        "        return \"Length: {} units, Width: {} units, Perimeter: {} units, Area: {}sq units\".format(self.__length, self.__width, self.__Perimeter(), self.__Area())"
      ]
    },
    {
      "cell_type": "code",
      "execution_count": 73,
      "metadata": {},
      "outputs": [
        {
          "data": {
            "text/plain": [
              "'Length: 4 units, Width: 3 units, Perimeter: 14 units, Area: 12sq units'"
            ]
          },
          "execution_count": 73,
          "metadata": {},
          "output_type": "execute_result"
        }
      ],
      "source": [
        "my_rectangle = Rectangle(3 , 4)\n",
        "my_rectangle.display()"
      ]
    },
    {
      "cell_type": "markdown",
      "metadata": {
        "id": "r_GxrS0Vrdom"
      },
      "source": [
        "##`Q-2: Bank Class`\n",
        "\n",
        "1. Create a Python class called `BankAccount` which represents a bank account, having as attributes: `accountNumber` (numeric type), `name` (name of the account owner as string type), `balance`.\n",
        "2. Create a constructor with parameters: `accountNumber, name, balance`.\n",
        "3. Create a `Deposit()` method which manages the deposit actions.\n",
        "4. Create a `Withdrawal()` method  which manages withdrawals actions.\n",
        "5. Create an `bankFees()` method to apply the bank fees with a percentage of 5% of the balance account.\n",
        "6. Create a `display()` method to display account details.\n",
        "Give the complete code for the  BankAccount class."
      ]
    },
    {
      "cell_type": "markdown",
      "metadata": {
        "id": "qvVkOUJgvTV_"
      },
      "source": [
        "Eg.\n",
        "After making above classes and methods, on executing below code:-\n",
        "```\n",
        "newAccount = BankAccount(2178514584, \"Mandy\" , 2800)\n",
        "\n",
        "newAccount.Withdrawal(700)\n",
        "\n",
        "newAccount.Deposit(1000)\n",
        "\n",
        "newAccount.display()\n",
        "```\n",
        "\n",
        "`Output:`\n",
        "```\n",
        "Account Number :  2178514584\n",
        "Account Name :  Mandy\n",
        "Account Balance :  3100 ₹\n",
        "```"
      ]
    },
    {
      "cell_type": "code",
      "execution_count": 96,
      "metadata": {
        "id": "fUQOmQyA6YDR"
      },
      "outputs": [],
      "source": [
        "# write your code here\n",
        "\n",
        "class BankAccount:\n",
        "    def __init__(self, accountNumber, name, bal):\n",
        "        self.__accNo = int(accountNumber)\n",
        "        self.__name = str(name)\n",
        "        self.__balance = bal\n",
        "    \n",
        "    def Deposit(self, input):\n",
        "        self.__balance += input\n",
        "        print(\"Deposited\",input,\"₹. Current Bal:\", self.__balance, \"₹\")\n",
        "    \n",
        "    def Withdrawal(self, amount):\n",
        "        if self.__balance == 0:\n",
        "            print(\"No Money...\")\n",
        "            return\n",
        "        elif self.__balance < amount:\n",
        "            print(\"Not enough Money...\")\n",
        "            return\n",
        "        else:\n",
        "            amt = amount + self.__bankFees(amount)\n",
        "            if amt>self.__balance:\n",
        "                print(\"Not enough Money...\")\n",
        "                return\n",
        "            self.__balance -= amt\n",
        "            print(\"Withdrawal successful. Current Bal: \",self.__balance,\". Bank Fees for the transaction:\", self.__bankFees(amount))\n",
        "        \n",
        "    def __bankFees(self, input):\n",
        "        return (0.05 * input)\n",
        "    \n",
        "    def display(self):\n",
        "        print(\"Account Number : \",self.__accNo,\"\\nAccount Name : \",self.__name,\"\\nAccount balance = \",self.__balance,\"₹\")"
      ]
    },
    {
      "cell_type": "code",
      "execution_count": 97,
      "metadata": {},
      "outputs": [
        {
          "name": "stdout",
          "output_type": "stream",
          "text": [
            "Withdrawal successful. Current Bal:  2065.0 . Bank Fees for the transaction: 35.0\n",
            "Deposited 1000 ₹. Current Bal: 3065.0 ₹\n",
            "Account Number :  2178514584 \n",
            "Account Name :  Mandy \n",
            "Account balance =  3065.0 ₹\n"
          ]
        }
      ],
      "source": [
        "newAccount = BankAccount(2178514584, \"Mandy\" , 2800)\n",
        "\n",
        "newAccount.Withdrawal(700)\n",
        "\n",
        "newAccount.Deposit(1000)\n",
        "\n",
        "newAccount.display()"
      ]
    },
    {
      "cell_type": "markdown",
      "metadata": {
        "id": "QovcQAZTrgGU"
      },
      "source": [
        "##`Q-3:Computation class`\n",
        "\n",
        "1. Create a `Computation` class with a default constructor (without parameters) allowing to perform various calculations on integers numbers.\n",
        "2. Create a method called `Factorial()` which allows to calculate the factorial of an integer n. Integer n as parameter for this method\n",
        "\n",
        "3. Create a method called `naturalSum()` allowing to calculate the sum of the first n integers 1 + 2 + 3 + .. + n. Integer n as parameter for this method.\n",
        "\n",
        "4. Create a method called `testPrime()` in  the Calculation class to test the primality of a given integer n, n is Prime or Not? Integer n as parameter for this method.\n",
        "\n",
        "5. Create  a method called `testPrims()` allowing to test if two numbers are prime between them. Two integers are prime to one another if they have only `1` as their common divisor. Eg. 4 and 9 are prime to each other.\n",
        "\n",
        "5. Create a `tableMult()` method which creates and displays the multiplication table of a given integer. Then create an `allTablesMult()` method to display all the integer multiplication tables 1, 2, 3, ..., 9.\n",
        "\n",
        "6. Create a static `listDiv()` method that gets all the divisors of a given integer on new list called  Ldiv. Create another `listDivPrim()` method that gets all the prime divisors of a given integer."
      ]
    },
    {
      "cell_type": "code",
      "execution_count": 6,
      "metadata": {
        "id": "YEkPH70l6Z-o"
      },
      "outputs": [],
      "source": [
        "# write your code here\n",
        "class Computation:\n",
        "    def __init__(self):\n",
        "        pass\n",
        "\n",
        "    def Factorial(self, n):\n",
        "        if n<=1: return 1\n",
        "        else:\n",
        "            fact = 1\n",
        "            for i in range (1,n+1):\n",
        "                fact*=i\n",
        "        return fact\n",
        "        \n",
        "    def naturalSum(self, n):\n",
        "        return n*(n+1)/2\n",
        "    \n",
        "    def testPrime(self, n):\n",
        "        k = Math.floor(n**0.5)\n",
        "        for i in range(2, k):\n",
        "            if n%i == 0: return False\n",
        "            else: return True\n",
        "    \n",
        "    def testPrims(self, x, y):\n",
        "        Ctr = 0\n",
        "        if x==1 or y==1:\n",
        "            return False\n",
        "        for i in range(2,x+1):\n",
        "            if x%i==0 and y%i==0:\n",
        "                Ctr+=1\n",
        "        \n",
        "        if Ctr == 0:\n",
        "            return True\n",
        "        else:\n",
        "            return False\n",
        "\n",
        "    def tableMult(self, n):\n",
        "        for i in range(1,11):\n",
        "            print(n, \"times\", i, \"=\", n*i)\n",
        "\n",
        "    def allTablesMult(self):\n",
        "        for i in range(1,10):\n",
        "            self.tableMult(i)\n",
        "            print(\"\\n\")\n",
        "\n",
        "    def listDiv(self, n):\n",
        "        Ldiv = []\n",
        "        for i in range (1,n):\n",
        "            if n%i == 0: Ldiv.append(i)\n",
        "        return Ldiv\n",
        "\n",
        "    def listDivPrim(self, n):\n",
        "        temp = self.listDiv(n)\n",
        "        LPDiv = []\n",
        "        for i in temp:\n",
        "            flag = self.testPrime(i)\n",
        "\n",
        "            if flag: LPDiv.append(i)\n",
        "        \n",
        "        return LPDiv"
      ]
    },
    {
      "cell_type": "code",
      "execution_count": 7,
      "metadata": {},
      "outputs": [
        {
          "data": {
            "text/plain": [
              "False"
            ]
          },
          "execution_count": 7,
          "metadata": {},
          "output_type": "execute_result"
        }
      ],
      "source": [
        "comp = Computation()\n",
        "\n",
        "comp.testPrims(5,1)"
      ]
    },
    {
      "cell_type": "markdown",
      "metadata": {
        "id": "0yn23_oEriXa"
      },
      "source": [
        "##`Q-4`: Build flashcard using class in Python.\n",
        "\n",
        "Build a flashcard using class in python. A flashcard is a card having information on both sides, which can be used as an aid in memoization. Flashcards usually have a question on one side and an answer on the other.\n",
        "\n",
        "**Example 1:**\n",
        "\n",
        "Approach:\n",
        "\n",
        "- Create a class named FlashCard.\n",
        "- Initialize dictionary fruits using __init__() method. Here you have to define fruit name as key and it's color as value. E.g., {\"Banana\": \"yellow\", \"Strawberries\": \"pink\"}\n",
        "- Now randomly choose a pair from fruits by using _random_ module and store the key in variable _fruit_ and _value_ in variable color.\n",
        "- Now prompt the user to answer the color of the randomly chosen fruit.\n",
        "- If correct print correct else print wrong.\n",
        "\n",
        "Output:\n",
        "```bash\n",
        "welcome to fruit quiz\n",
        "What is the color of Strawberries\n",
        "pink\n",
        "Correct answer\n",
        "Enter 0, if you want to play again: 0\n",
        "What is the color of watermelon\n",
        "green\n",
        "Correct answer\n",
        "Enter 0, if you want to play again: 1\n",
        "```"
      ]
    },
    {
      "cell_type": "code",
      "execution_count": 43,
      "metadata": {
        "id": "vCrUF6VU6l6w"
      },
      "outputs": [],
      "source": [
        "# write your code here\n",
        "import math\n",
        "import random\n",
        "\n",
        "class FlashCard:\n",
        "    def __init__(self):\n",
        "        self.__prop = {\"mangoes\": \"yellow\", \"apples\": \"red\", \"bananas\":\"yellow\", \"watermelons\":\"green\", \"lichis\":\"pink\"}\n",
        "        self.__welcome_statement()\n",
        "        self.__play_game()\n",
        "\n",
        "    def __play_game(self):\n",
        "        user_choice = True\n",
        "        while(user_choice):\n",
        "            question = self.__generate_random(self.__prop)\n",
        "            answer = self.__user_input(question)\n",
        "            result = self.__assess(question, answer)\n",
        "            print(result)\n",
        "            print(\"Enter 0 to play again:\")\n",
        "            choice = input()\n",
        "            if choice!='0':\n",
        "                user_choice = False\n",
        "\n",
        "        print(\"Thanks for playing\")\n",
        "        return\n",
        "\n",
        "    def __welcome_statement(self):\n",
        "        print(\"Welcome to fruit quiz.\")\n",
        "        return\n",
        "    \n",
        "    def __generate_random(self, dictionary):\n",
        "        question = random.choice(list(dictionary.keys()))\n",
        "        return question\n",
        "\n",
        "    def __user_input(self, question):\n",
        "        print(\"What is the colour of\", question, \"\\n\")\n",
        "        answer = input().lower()\n",
        "        return answer\n",
        "\n",
        "    def __assess(self,question, answer):\n",
        "        if answer == self.__prop[question].lower():\n",
        "            return \"Correct\"\n",
        "        else:\n",
        "            return \"Wrong\"\n"
      ]
    },
    {
      "cell_type": "code",
      "execution_count": 44,
      "metadata": {},
      "outputs": [
        {
          "name": "stdout",
          "output_type": "stream",
          "text": [
            "Welcome to fruit quiz.\n",
            "What is the colour of apples \n",
            "\n",
            "Correct\n",
            "Enter 0 to play again:\n",
            "What is the colour of watermelons \n",
            "\n",
            "Wrong\n",
            "Enter 0 to play again:\n",
            "Thanks for playing\n"
          ]
        }
      ],
      "source": [
        "start= FlashCard()"
      ]
    },
    {
      "cell_type": "markdown",
      "metadata": {
        "id": "GN2r0jbRewYr"
      },
      "source": [
        "## `Q-5:` Problem 5 based on OOP Python.\n",
        "\n",
        "TechWorld, a technology training center, wants to allocate courses for instructors. An instructor is identified by name, technology skills, experience and average feedback. An instructor is allocated a course, if he/she satisfies the below two conditions:\n",
        "- eligibility criteria:\n",
        "    - if experience is more than 3 years, average feedback should be 4.5 or more\n",
        "    - if experience is 3 years or less, average feedback should be 4 or more\n",
        "- he/she should posses the technology skill for the course\n",
        "\n",
        "Identify the class name and attributes to represent instructors. Write a Python program to implement the class chosen with its attributes and methods.\n",
        "\n",
        "**Note:**\n",
        "- Consider all instance variables to be private and methods to be public.\n",
        "- An instructor may have multiple technology skills, so consider instance variable, technology_skill to be a list.\n",
        "- *check_eligibility()*: Return true if eligibility criteria is satisfied by the instructor. Else, return false\n",
        "- *allocate_course(technology)*: Return true if the course which requires the given technology can be allocated to the instructor. Else, return false.\n",
        "\n",
        "Represent a few objects of the class, initialize instance variables using setter methods, invoke\n",
        "appropriate methods and test your program."
      ]
    },
    {
      "cell_type": "code",
      "execution_count": 169,
      "metadata": {
        "id": "pdMFuVFnlvKL"
      },
      "outputs": [],
      "source": [
        "# write your code here\n",
        "class Instructor:\n",
        "    def __init__(self, name, skills, experience, avg_feedback):\n",
        "        self.__name = name\n",
        "        self.__skills = skills\n",
        "        self.__experience = experience\n",
        "        self.__avg_feedback = avg_feedback\n",
        "        \n",
        "    def __str__(self):\n",
        "        skills = ', '.join(self.__skills)\n",
        "        yr = \"years\"\n",
        "        if self.__experience == 1:\n",
        "            yr = \"year\"\n",
        "        return \"Name: {}\\nSkills: {}\\nExperience: {} {}\\nAverage Feedback: {}\".format(self.__name, skills, self.__experience, yr, self.__avg_feedback)\n",
        "\n",
        "\n",
        "    def check_eligibilty(self):\n",
        "        eligibility = \"\"\n",
        "        if (self.__experience > 3 and self.__avg_feedback >= 4.5) or (self.__experience <= 3 and self.__avg_feedback >= 4):\n",
        "            eligibility = \"Eligible\"\n",
        "        else: eligibility = \"Ineligible\"\n",
        "        \n",
        "        return eligibility\n",
        "    \n",
        "    def allocate_course(self, course):\n",
        "        eligible = self.check_eligibilty()\n",
        "        if eligible==\"Eligible\":\n",
        "            \n",
        "            if course in self.__skills:\n",
        "                print(course, \"course can be allocated:\")\n",
        "            else: print(\"Not Eligible to teach the\", course ,\"course\")\n",
        "        else:\n",
        "            print(\"The instructor is not qualified to teach at all\")\n"
      ]
    },
    {
      "cell_type": "code",
      "execution_count": 175,
      "metadata": {},
      "outputs": [],
      "source": [
        "instructor1 = Instructor(\"Kanishk\", [\"HTML\", \"CSS\"], 1, 4)\n",
        "instructor2 = Instructor(\"Abhishek\", [\"HTML\", \"CSS\", \"JS\", \"React\"], 3, 4.8)"
      ]
    },
    {
      "cell_type": "code",
      "execution_count": 176,
      "metadata": {},
      "outputs": [
        {
          "name": "stdout",
          "output_type": "stream",
          "text": [
            "Name: Frontend Development\n",
            "Skills Required: HTML, CSS, JS, React\n"
          ]
        }
      ],
      "source": [
        "print(course1)"
      ]
    },
    {
      "cell_type": "code",
      "execution_count": 177,
      "metadata": {},
      "outputs": [
        {
          "name": "stdout",
          "output_type": "stream",
          "text": [
            "Name: Kanishk\n",
            "Skills: HTML, CSS\n",
            "Experience: 1 year\n",
            "Average Feedback: 4 \n",
            "\n",
            "Name: Abhishek\n",
            "Skills: HTML, CSS, JS, React\n",
            "Experience: 3 years\n",
            "Average Feedback: 4.8\n"
          ]
        }
      ],
      "source": [
        "print(instructor1, \"\\n\")\n",
        "print(instructor2)"
      ]
    },
    {
      "cell_type": "code",
      "execution_count": 178,
      "metadata": {},
      "outputs": [
        {
          "data": {
            "text/plain": [
              "'Eligible'"
            ]
          },
          "execution_count": 178,
          "metadata": {},
          "output_type": "execute_result"
        }
      ],
      "source": [
        "instructor1.check_eligibilty()"
      ]
    },
    {
      "cell_type": "code",
      "execution_count": 179,
      "metadata": {},
      "outputs": [
        {
          "data": {
            "text/plain": [
              "'Eligible'"
            ]
          },
          "execution_count": 179,
          "metadata": {},
          "output_type": "execute_result"
        }
      ],
      "source": [
        "instructor2.check_eligibilty()"
      ]
    },
    {
      "cell_type": "code",
      "execution_count": 180,
      "metadata": {},
      "outputs": [
        {
          "name": "stdout",
          "output_type": "stream",
          "text": [
            "HTML course can be allocated:\n"
          ]
        }
      ],
      "source": [
        "instructor1.allocate_course(\"HTML\")"
      ]
    },
    {
      "cell_type": "code",
      "execution_count": 181,
      "metadata": {},
      "outputs": [
        {
          "name": "stdout",
          "output_type": "stream",
          "text": [
            "Not Eligible to teach the Data Analysis course\n"
          ]
        }
      ],
      "source": [
        "instructor2.allocate_course(\"Data Analysis\")"
      ]
    }
  ],
  "metadata": {
    "colab": {
      "provenance": []
    },
    "kernelspec": {
      "display_name": "Python 3",
      "name": "python3"
    },
    "language_info": {
      "codemirror_mode": {
        "name": "ipython",
        "version": 3
      },
      "file_extension": ".py",
      "mimetype": "text/x-python",
      "name": "python",
      "nbconvert_exporter": "python",
      "pygments_lexer": "ipython3",
      "version": "3.13.5"
    }
  },
  "nbformat": 4,
  "nbformat_minor": 0
}
