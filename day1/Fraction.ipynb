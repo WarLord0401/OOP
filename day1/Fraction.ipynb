{
 "cells": [
  {
   "cell_type": "markdown",
   "id": "acc6d0c6",
   "metadata": {},
   "source": [
    "Will properly implement the fractions data variable in this sheet. Last sheet was for explanation and practice."
   ]
  },
  {
   "cell_type": "code",
   "execution_count": 55,
   "id": "844d85be",
   "metadata": {},
   "outputs": [],
   "source": [
    "class Fraction:\n",
    "    def __init__(self, numerator, denominator):\n",
    "        self.numerator = numerator\n",
    "        self.denominator = denominator\n",
    "        if(denominator == 0):\n",
    "            raise ValueError(\"Denominator cannot be zero.\")\n",
    "\n",
    "    def gcd(self,x,y):\n",
    "        x,y = abs(x), abs(y)  # Ensure x and y are non-negative\n",
    "        if x<y: x,y = y,x\n",
    "        if y==0: return x\n",
    "        else: return self.gcd(y, x%y)\n",
    "\n",
    "    def simplify(self, numerator, denominator):\n",
    "        common = self.gcd(numerator, denominator)\n",
    "        if numerator<0 and denominator<0:\n",
    "            self.numerator = - (numerator // common)\n",
    "            self.denominator = - (denominator // common)\n",
    "        else:\n",
    "            self.numerator = numerator // common\n",
    "            self.denominator = denominator // common\n",
    "        return self\n",
    "\n",
    "    def __str__(self):\n",
    "        self.numerator = self.simplify(self.numerator, self.denominator).numerator\n",
    "        self.denominator = self.simplify(self.numerator, self.denominator).denominator\n",
    "        return \"{}/{}\".format(self.numerator, self.denominator)\n",
    "\n",
    "    def __add__(self, other):\n",
    "        num = self.numerator * other.denominator + self.denominator * other.numerator\n",
    "        den = self.denominator * other.denominator\n",
    "        num_sim = self.simplify(num, den).numerator\n",
    "        den_sim = self.simplify(num, den).denominator\n",
    "        return '{}/{}'.format(num_sim, den_sim)\n",
    "\n",
    "    def __sub__(self, other):\n",
    "        num = self.numerator * other.denominator - self.denominator * other.numerator\n",
    "        den = self.denominator * other.denominator\n",
    "        num_sim = self.simplify(num, den).numerator\n",
    "        den_sim = self.simplify(num, den).denominator\n",
    "        return '{}/{}'.format(num_sim, den_sim)\n",
    "\n",
    "    def __mul__(self, other):\n",
    "        num = self.numerator * other.numerator\n",
    "        den = self.denominator * other.denominator\n",
    "        num_sim = self.simplify(num, den).numerator\n",
    "        den_sim = self.simplify(num, den).denominator\n",
    "        return '{}/{}'.format(num_sim, den_sim)\n",
    "\n",
    "    def __truediv__(self, other):\n",
    "        num = self.numerator * other.denominator\n",
    "        den = self.denominator * other.numerator\n",
    "        num_sim = self.simplify(num, den).numerator\n",
    "        den_sim = self.simplify(num, den).denominator\n",
    "        return '{}/{}'.format(num_sim, den_sim)\n",
    "    \n",
    "    def reverse(self):\n",
    "        return '{}/{}'.format(self.denominator, self.numerator)\n",
    "\n",
    "    def to_decimal(self):\n",
    "        return self.numerator / self.denominator\n"
   ]
  },
  {
   "cell_type": "code",
   "execution_count": 56,
   "id": "b7cb2b69",
   "metadata": {},
   "outputs": [
    {
     "name": "stdout",
     "output_type": "stream",
     "text": [
      "1/2\n",
      "2/3\n"
     ]
    }
   ],
   "source": [
    "obj = Fraction(1,2)\n",
    "print(obj)\n",
    "\n",
    "obj2 = Fraction(4,6)\n",
    "print(obj2)"
   ]
  },
  {
   "cell_type": "code",
   "execution_count": 51,
   "id": "2f778340",
   "metadata": {},
   "outputs": [
    {
     "name": "stdout",
     "output_type": "stream",
     "text": [
      "7/6\n",
      "1/2\n",
      "1/3\n",
      "1/2\n",
      "3/2\n",
      "0.5\n"
     ]
    }
   ],
   "source": [
    "print(obj + obj2)\n",
    "print(obj - obj2)\n",
    "print(obj * obj2)\n",
    "print(obj / obj2)\n",
    "print(obj2.reverse())\n",
    "print(obj.to_decimal())"
   ]
  },
  {
   "cell_type": "code",
   "execution_count": 57,
   "id": "62a50315",
   "metadata": {},
   "outputs": [
    {
     "name": "stdout",
     "output_type": "stream",
     "text": [
      "1/-2\n"
     ]
    }
   ],
   "source": [
    "obj3 = Fraction(1, -2)\n",
    "print(obj3)"
   ]
  },
  {
   "cell_type": "code",
   "execution_count": null,
   "id": "1fc31eff",
   "metadata": {},
   "outputs": [],
   "source": []
  },
  {
   "cell_type": "code",
   "execution_count": null,
   "id": "47728e92",
   "metadata": {},
   "outputs": [],
   "source": []
  }
 ],
 "metadata": {
  "kernelspec": {
   "display_name": "Python 3",
   "language": "python",
   "name": "python3"
  },
  "language_info": {
   "codemirror_mode": {
    "name": "ipython",
    "version": 3
   },
   "file_extension": ".py",
   "mimetype": "text/x-python",
   "name": "python",
   "nbconvert_exporter": "python",
   "pygments_lexer": "ipython3",
   "version": "3.13.5"
  }
 },
 "nbformat": 4,
 "nbformat_minor": 5
}
