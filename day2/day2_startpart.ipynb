{
 "cells": [
  {
   "cell_type": "code",
   "execution_count": 2,
   "id": "6b2818da",
   "metadata": {},
   "outputs": [],
   "source": [
    "class Person:\n",
    "    def __init__(self, name_input, country_input):\n",
    "        self.name = name_input\n",
    "        self.country = country_input\n",
    "\n",
    "    def greet(self):\n",
    "        if self.country == \"India\": print(\"Namaste \", self.name)\n",
    "        else: print(\"Hello \", self.name)\n",
    "        "
   ]
  },
  {
   "cell_type": "code",
   "execution_count": 4,
   "id": "e8e53a72",
   "metadata": {},
   "outputs": [],
   "source": [
    "# How to access attribute?\n",
    "p = Person(\"Nitish\", \"India\")"
   ]
  },
  {
   "cell_type": "code",
   "execution_count": 6,
   "id": "4d9d2c22",
   "metadata": {},
   "outputs": [
    {
     "name": "stdout",
     "output_type": "stream",
     "text": [
      "India\n",
      "Nitish\n"
     ]
    }
   ],
   "source": [
    "print(p.country)\n",
    "print(p.name)\n"
   ]
  },
  {
   "cell_type": "code",
   "execution_count": 8,
   "id": "aaba1311",
   "metadata": {},
   "outputs": [
    {
     "name": "stdout",
     "output_type": "stream",
     "text": [
      "Namaste  Nitish\n"
     ]
    }
   ],
   "source": [
    "# How to access method?\n",
    "\n",
    "p.greet()"
   ]
  },
  {
   "cell_type": "code",
   "execution_count": 9,
   "id": "1604ec10",
   "metadata": {},
   "outputs": [
    {
     "ename": "AttributeError",
     "evalue": "'Person' object has no attribute 'gender'",
     "output_type": "error",
     "traceback": [
      "\u001b[1;31m---------------------------------------------------------------------------\u001b[0m",
      "\u001b[1;31mAttributeError\u001b[0m                            Traceback (most recent call last)",
      "Cell \u001b[1;32mIn[9], line 3\u001b[0m\n\u001b[0;32m      1\u001b[0m \u001b[38;5;66;03m# What if I try to access non-existant attr?\u001b[39;00m\n\u001b[1;32m----> 3\u001b[0m \u001b[43mp\u001b[49m\u001b[38;5;241;43m.\u001b[39;49m\u001b[43mgender\u001b[49m\n",
      "\u001b[1;31mAttributeError\u001b[0m: 'Person' object has no attribute 'gender'"
     ]
    }
   ],
   "source": [
    "# What if I try to access non-existant attr?\n",
    "\n",
    "p.gender"
   ]
  },
  {
   "cell_type": "markdown",
   "id": "a2746f4c",
   "metadata": {},
   "source": [
    "Hmm, but what if I do this:"
   ]
  },
  {
   "cell_type": "code",
   "execution_count": 10,
   "id": "43ee5345",
   "metadata": {},
   "outputs": [],
   "source": [
    "p.gender = \"male\""
   ]
  },
  {
   "cell_type": "code",
   "execution_count": 11,
   "id": "090f08c2",
   "metadata": {},
   "outputs": [
    {
     "data": {
      "text/plain": [
       "'male'"
      ]
     },
     "execution_count": 11,
     "metadata": {},
     "output_type": "execute_result"
    }
   ],
   "source": [
    "# And now if i call: \n",
    "p.gender"
   ]
  },
  {
   "cell_type": "markdown",
   "id": "ae2ad3c4",
   "metadata": {},
   "source": [
    "Huh, there was no error. Why?\n",
    "\n",
    "BECAUSE WE CAN CREATE NEW ATTRIBUTES FROM OUTSIDE OF THE CLASS :)\n",
    "\n",
    "If we want we can use an object to create a new attribute as seen above"
   ]
  },
  {
   "cell_type": "markdown",
   "id": "e72453ae",
   "metadata": {},
   "source": [
    ".\n",
    "\n",
    ".\n",
    "\n",
    ".\n",
    "\n",
    ".\n",
    "\n",
    "REFERENCE VARIABLES:\n",
    "\n",
    "- Reference variables hold the objects\n",
    "- We can create objects without reference variables as well\n",
    "- An object can have multiple reference variables\n",
    "- Assigning a new reference variable to an existing object doesn't create a new object"
   ]
  },
  {
   "cell_type": "code",
   "execution_count": 13,
   "id": "2b15d6ec",
   "metadata": {},
   "outputs": [
    {
     "data": {
      "text/plain": [
       "<__main__.Person at 0x1d60bab2120>"
      ]
     },
     "execution_count": 13,
     "metadata": {},
     "output_type": "execute_result"
    }
   ],
   "source": [
    "# Object without a reference\n",
    "\n",
    "class Person:\n",
    "    def __init__(self):\n",
    "        self.name = \"Kanishk\"\n",
    "        self.country = \"India\"\n",
    "\n",
    "# What we used to do when creating an object for this class: \n",
    "# p = Person()\n",
    "\n",
    "# Now what if I do this:\n",
    "Person()"
   ]
  },
  {
   "cell_type": "markdown",
   "id": "b62a7bdd",
   "metadata": {},
   "source": [
    "Yes it will work. So when we did p = Person(),\n",
    "p was NOT the object.\n",
    "\n",
    "It was the reference variable which contained the address of the object present in the memory"
   ]
  },
  {
   "cell_type": "code",
   "execution_count": 14,
   "id": "6157e6df",
   "metadata": {},
   "outputs": [],
   "source": [
    "# So if we do:\n",
    "p = Person()\n",
    "q = p"
   ]
  },
  {
   "cell_type": "markdown",
   "id": "8d66d5f3",
   "metadata": {},
   "source": [
    "In this case, q is pointing to the same memory location that p is pointing to."
   ]
  },
  {
   "cell_type": "code",
   "execution_count": null,
   "id": "859207e7",
   "metadata": {},
   "outputs": [],
   "source": []
  },
  {
   "cell_type": "code",
   "execution_count": 15,
   "id": "ddca9a22",
   "metadata": {},
   "outputs": [
    {
     "name": "stdout",
     "output_type": "stream",
     "text": [
      "2018828134480\n",
      "2018828134480\n"
     ]
    }
   ],
   "source": [
    "# We can check this:\n",
    "print(id(p))\n",
    "print(id(q))"
   ]
  },
  {
   "cell_type": "code",
   "execution_count": 16,
   "id": "25c00bda",
   "metadata": {},
   "outputs": [],
   "source": [
    "# See! Both are the same ids."
   ]
  },
  {
   "cell_type": "markdown",
   "id": "dea54acf",
   "metadata": {},
   "source": [
    "What do we get from this? Lets see with example:"
   ]
  },
  {
   "cell_type": "code",
   "execution_count": 17,
   "id": "6d0f0795",
   "metadata": {},
   "outputs": [
    {
     "name": "stdout",
     "output_type": "stream",
     "text": [
      "Kanishk\n",
      "Kanishk\n"
     ]
    }
   ],
   "source": [
    "print(p.name)\n",
    "print(q.name)\n"
   ]
  },
  {
   "cell_type": "code",
   "execution_count": 19,
   "id": "d9efa1b0",
   "metadata": {},
   "outputs": [],
   "source": [
    "# both are same. Ok lets do this:\n",
    "\n",
    "q.name = \"ankit\"\n"
   ]
  },
  {
   "cell_type": "code",
   "execution_count": 20,
   "id": "8a370924",
   "metadata": {},
   "outputs": [
    {
     "name": "stdout",
     "output_type": "stream",
     "text": [
      "ankit\n",
      "ankit\n"
     ]
    }
   ],
   "source": [
    "\n",
    "print(p.name)\n",
    "print(q.name)"
   ]
  },
  {
   "cell_type": "markdown",
   "id": "615fca18",
   "metadata": {},
   "source": [
    "And lo! both values are still the same, cuz p and q refer to same id object and q just changed the value of that object. Simple"
   ]
  },
  {
   "cell_type": "markdown",
   "id": "fb81933c",
   "metadata": {},
   "source": [
    "This means : We have to be ultra careful when changing values in different reference variables"
   ]
  },
  {
   "cell_type": "markdown",
   "id": "0860720c",
   "metadata": {},
   "source": [
    ".\n",
    "\n",
    ".\n",
    "\n",
    "Pass By Reference"
   ]
  },
  {
   "cell_type": "code",
   "execution_count": 26,
   "id": "a8a2e01c",
   "metadata": {},
   "outputs": [
    {
     "name": "stdout",
     "output_type": "stream",
     "text": [
      "Hi! I'm Kanishk and I'm a man\n"
     ]
    }
   ],
   "source": [
    "class Person:\n",
    "    def __init__(self, name, gender):\n",
    "        self.name = name\n",
    "        self.gender = gender\n",
    "\n",
    "def greet(person):\n",
    "    # outside the class => so this is a function (not method)\n",
    "    print(\"Hi! I'm\",person.name, \"and I'm a\",person.gender)\n",
    "\n",
    "p = Person(\"Kanishk\", \"man\")\n",
    "greet(p)\n"
   ]
  },
  {
   "cell_type": "markdown",
   "id": "72747c95",
   "metadata": {},
   "source": [
    "In the above example, we used an object as an INPUT to a function."
   ]
  },
  {
   "cell_type": "code",
   "execution_count": 27,
   "id": "42e30c13",
   "metadata": {},
   "outputs": [
    {
     "name": "stdout",
     "output_type": "stream",
     "text": [
      "Hi! I'm Kanishk and I'm a man\n",
      "Aman\n",
      "man\n"
     ]
    }
   ],
   "source": [
    "class Person:\n",
    "    def __init__(self, name, gender):\n",
    "        self.name = name\n",
    "        self.gender = gender\n",
    "\n",
    "def greet(person):\n",
    "    print(\"Hi! I'm\",person.name, \"and I'm a\",person.gender)\n",
    "    # declaring and returning an object within a function:\n",
    "    q = Person(\"Aman\", \"man\")\n",
    "    return q\n",
    "\n",
    "p = Person(\"Kanishk\", \"man\")\n",
    "x = greet(p)\n",
    "print(x.name)\n",
    "print(x.gender)"
   ]
  },
  {
   "cell_type": "markdown",
   "id": "edfc0517",
   "metadata": {},
   "source": [
    "Interesting, so we returned an object from a function."
   ]
  },
  {
   "cell_type": "code",
   "execution_count": 28,
   "id": "47928689",
   "metadata": {},
   "outputs": [
    {
     "name": "stdout",
     "output_type": "stream",
     "text": [
      "Hi! I'm Kanishk and I'm a man\n",
      "2018830400688\n",
      "2018830400688\n"
     ]
    }
   ],
   "source": [
    "class Person:\n",
    "    def __init__(self, name, gender):\n",
    "        self.name = name\n",
    "        self.gender = gender\n",
    "\n",
    "def greet(person):\n",
    "    print(\"Hi! I'm\",person.name, \"and I'm a\",person.gender)\n",
    "    print(id(person))\n",
    "\n",
    "p = Person(\"Kanishk\", \"man\")\n",
    "greet(p)\n",
    "print(id(p))\n"
   ]
  },
  {
   "cell_type": "markdown",
   "id": "f5430ffd",
   "metadata": {},
   "source": [
    "So we have same id again. So technically, we didn't send the whole object as input, we are sending the id/reference.\n",
    "\n",
    "Hence: pass by reference"
   ]
  },
  {
   "cell_type": "markdown",
   "id": "0d989e27",
   "metadata": {},
   "source": [
    "So if we change the value of attribute within a function, we'll get the same value if we print the attribute outside the function"
   ]
  },
  {
   "cell_type": "code",
   "execution_count": 30,
   "id": "0be1adae",
   "metadata": {},
   "outputs": [
    {
     "name": "stdout",
     "output_type": "stream",
     "text": [
      "Hi! I'm Kanishk and I'm a man\n",
      "Aman\n",
      "Aman\n"
     ]
    }
   ],
   "source": [
    "# To show the above concept:\n",
    "\n",
    "class Person:\n",
    "    def __init__(self, name, gender):\n",
    "        self.name = name\n",
    "        self.gender = gender\n",
    "\n",
    "def greet(person):\n",
    "    print(\"Hi! I'm\",person.name, \"and I'm a\",person.gender)\n",
    "    person.name = \"Aman\"\n",
    "    print(person.name)\n",
    "\n",
    "p = Person(\"Kanishk\", \"man\")\n",
    "greet(p)\n",
    "print(p.name)\n"
   ]
  },
  {
   "cell_type": "markdown",
   "id": "fa95d7ba",
   "metadata": {},
   "source": [
    "Mutablity of an Object"
   ]
  },
  {
   "cell_type": "code",
   "execution_count": 32,
   "id": "4b9ed095",
   "metadata": {},
   "outputs": [
    {
     "name": "stdout",
     "output_type": "stream",
     "text": [
      "2018830398336\n",
      "2018830398336\n"
     ]
    }
   ],
   "source": [
    "class Person:\n",
    "    def __init__(self, name, gender):\n",
    "        self.name = name\n",
    "        self.gender = gender\n",
    "\n",
    "def greet(person):\n",
    "    person.name = \"Aman\"\n",
    "    return person\n",
    "\n",
    "p = Person(\"Kanishk\", \"man\")\n",
    "print(id(p))\n",
    "\n",
    "p1 = greet(p)\n",
    "print(id(p1))\n",
    "\n",
    "# We created an object and printed its id.\n",
    "# Then we sent it to function and changed its value\n",
    "# Function sends u changed object and the u print id again\n",
    "# So how do we know whether id will change or not?\n"
   ]
  },
  {
   "cell_type": "markdown",
   "id": "9b845cac",
   "metadata": {},
   "source": [
    "We do so by checking whether the object is mutable or immutable.\n",
    "\n",
    "if(mutable) => Address will be same\n",
    "else => Address will change"
   ]
  }
 ],
 "metadata": {
  "kernelspec": {
   "display_name": "Python 3",
   "language": "python",
   "name": "python3"
  },
  "language_info": {
   "codemirror_mode": {
    "name": "ipython",
    "version": 3
   },
   "file_extension": ".py",
   "mimetype": "text/x-python",
   "name": "python",
   "nbconvert_exporter": "python",
   "pygments_lexer": "ipython3",
   "version": "3.13.5"
  }
 },
 "nbformat": 4,
 "nbformat_minor": 5
}
