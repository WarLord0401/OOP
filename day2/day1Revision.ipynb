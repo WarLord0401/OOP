{
 "cells": [
  {
   "cell_type": "markdown",
   "id": "e026b27f",
   "metadata": {},
   "source": [
    "Here we'll create a variable for 2D coordinates and following properties:\n",
    "- User can create and view the coodinate\n",
    "- user can find out distance between two coordinates\n",
    "- user can find distance between coordinate and the origin\n",
    "- user can check if the coordinate lies on a given linea\n",
    "- user can find distance between the coordinate and a given line"
   ]
  },
  {
   "cell_type": "code",
   "execution_count": 16,
   "id": "e0241c9d",
   "metadata": {},
   "outputs": [],
   "source": [
    "class Point:\n",
    "    def __init__(self, x, y):\n",
    "        self.x = x\n",
    "        self.y = y\n",
    "    \n",
    "    def __str__(self):\n",
    "        return '({},{})'.format(self.x, self.y)\n",
    "    \n",
    "    def dist_origin(self):\n",
    "        distance = ((self.x**2 + self.y**2)**0.5)\n",
    "        #other method: distance = self.euclid_distance(Point(0,0)) => here we made a new object inside the euclid_distance function's parameter.\n",
    "        return distance\n",
    "\n",
    "    def euclid_distance(self,other):\n",
    "        rel_x = self.x - other.x\n",
    "        rel_y = self.y - other.y\n",
    "        dist = ((rel_x**2 + rel_y**2)**0.5)\n",
    "        return dist\n",
    "\n",
    "    def lies_on_line(self, line):\n",
    "        # line is an instance of the Line class\n",
    "        # We need to check if the point (self.x, self.y) satisfies the line equation\n",
    "        # The line equation is: ax + by + c = 0\n",
    "        # where a = line.x_coeff, b = line.y_coeff, c = line.constant\n",
    "        a = line.x_coeff\n",
    "        b = line.y_coeff\n",
    "        c = line.constant\n",
    "        # Substitute the point coordinates into the line equation\n",
    "        # If the equation holds true, the point lies on the line\n",
    "        ans = a * self.x + b * self.y + c == 0\n",
    "        if ans:\n",
    "            return \"Lies on line\"\n",
    "        else:\n",
    "            return \"Does not lie on line\"\n",
    "\n"
   ]
  },
  {
   "cell_type": "code",
   "execution_count": 26,
   "id": "74860902",
   "metadata": {},
   "outputs": [
    {
     "name": "stdout",
     "output_type": "stream",
     "text": [
      "(2,1)\n",
      "2.24\n",
      "*********************************\n",
      "x:  (3,4)\n",
      "y:  (6,8)\n",
      "Euclidean distance between x and y:  5.0\n"
     ]
    }
   ],
   "source": [
    "obj = Point(2,1)\n",
    "print(obj)\n",
    "print(obj.dist_origin())\n",
    "print(\"*********************************\")\n",
    "x = Point(3, 4)\n",
    "print('x: ', x)\n",
    "y = Point(6, 8)\n",
    "print('y: ', y)\n",
    "print('Euclidean distance between x and y: ', x.euclid_distance(y))"
   ]
  },
  {
   "cell_type": "markdown",
   "id": "9ebb5504",
   "metadata": {},
   "source": [
    "So now we completed first 3 parts. But for the next questions, we will have to make new class - 'Line'"
   ]
  },
  {
   "cell_type": "code",
   "execution_count": 37,
   "id": "e458953d",
   "metadata": {},
   "outputs": [],
   "source": [
    "class Line:\n",
    "    def __init__(self, a, b, c):\n",
    "        self.x_coeff = a\n",
    "        self.y_coeff = b\n",
    "        self.constant = c\n",
    "    \n",
    "    def __str__(self):\n",
    "        string = []\n",
    "\n",
    "        a = self.x_coeff\n",
    "        b = self.y_coeff\n",
    "        c = self.constant\n",
    "\n",
    "        if a == 0 and b == 0:\n",
    "            if c == 0:\n",
    "                return \"Origin\"\n",
    "            return f\"No line since {c} can't be equal to 0\"\n",
    "\n",
    "        if a!=0:\n",
    "            if a==1:\n",
    "                string.append('x')\n",
    "            elif a==-1:\n",
    "                string.append('-x')\n",
    "            else:\n",
    "                string.append(f'{a}x')\n",
    "\n",
    "        if b!=0:\n",
    "            if string:\n",
    "                sign = ' + ' if b>0 else ' - '\n",
    "                if abs(b)==1:\n",
    "                    string.append(f'{sign}y')\n",
    "                else:\n",
    "                    string.append(f'{sign}{abs(b)}y')\n",
    "            else:\n",
    "                if b==1:\n",
    "                    string.append('y')\n",
    "                elif b==-1:\n",
    "                    string.append('-y')\n",
    "                else:\n",
    "                    string.append(f'{b}y')\n",
    "        \n",
    "        if c!=0:\n",
    "            if string:\n",
    "                sign = ' + ' if c > 0 else ' - '\n",
    "                string.append(f'{sign}{abs(c)}')\n",
    "        \n",
    "        return \"\".join(string) + \" = 0\"\n",
    "    \n",
    "    def shortest_dist_from_point(self, point):\n",
    "        x = point.x\n",
    "        y = point.y\n",
    "        return round((abs(self.x_coeff*x + self.y_coeff*y + self.constant))/(self.x_coeff**2 + self.y_coeff**2)**0.5, 2)\n",
    "    \n",
    "    def intersect(self, other):\n",
    "        slope_self = -1*(self.x_coeff/self.y_coeff)\n",
    "        slope_other = -1*(other.x_coeff/other.y_coeff)\n",
    "\n",
    "        return (slope_self != slope_other)"
   ]
  },
  {
   "cell_type": "code",
   "execution_count": 44,
   "id": "8d0c23eb",
   "metadata": {},
   "outputs": [
    {
     "name": "stdout",
     "output_type": "stream",
     "text": [
      "1x + -1y + 5 = 0\n"
     ]
    }
   ],
   "source": [
    "line1 = Line(1, -1, 5)\n",
    "print(line1)"
   ]
  },
  {
   "cell_type": "markdown",
   "id": "f130da16",
   "metadata": {},
   "source": [
    "oops, for coefficients having value 0 and 1, we'll have to add some properties. Lets define that."
   ]
  },
  {
   "cell_type": "markdown",
   "id": "0c43f8d3",
   "metadata": {},
   "source": [
    "After editind the str method, lets see how the result is now:"
   ]
  },
  {
   "cell_type": "code",
   "execution_count": 38,
   "id": "fb1c377d",
   "metadata": {},
   "outputs": [
    {
     "name": "stdout",
     "output_type": "stream",
     "text": [
      "y - 3 = 0\n",
      "2x + 3y = 0\n",
      "Origin\n",
      "No line since 5 can't be equal to 0\n"
     ]
    }
   ],
   "source": [
    "line2 = Line(0, 1, -3)\n",
    "print(line2)\n",
    "\n",
    "l3 = Line(2, 3, 0)\n",
    "print(l3)\n",
    "\n",
    "l4 = Line(0, 0, 0)\n",
    "print(l4)\n",
    "\n",
    "l5 = Line(0, 0, 5)\n",
    "print(l5)"
   ]
  },
  {
   "cell_type": "markdown",
   "id": "9dfafa98",
   "metadata": {},
   "source": [
    "Now we can see that the line function is beautifully displayed, as we normally do.\n",
    "Now we will move on to implementing the questions.\n",
    "\n",
    "** In the last section of this page, I will show the logic i used previously to beautify the line function. It was a mostrosity so I searched for a better approach and applied in the class above **"
   ]
  },
  {
   "cell_type": "code",
   "execution_count": 39,
   "id": "fe6caf44",
   "metadata": {},
   "outputs": [
    {
     "name": "stdout",
     "output_type": "stream",
     "text": [
      "Does not lie on line\n",
      "Lies on line\n"
     ]
    }
   ],
   "source": [
    "# We know that if a point lies on the line, then the equation will be satisfied, i.e., if we substitute the coordinates of the point into the equation, the left-hand side will equal the right-hand side.\n",
    "# For that we we'll add a method inside the Point class.\n",
    "\n",
    "ptest = Point(1, 4)\n",
    "print(ptest.lies_on_line(line2))\n",
    "\n",
    "# line2 => y - 3 = 0\n",
    "# if we substitute => 4 - 3 = 1 which is != 0. Hence => False\n",
    "# Lets check with a truthy value: 5, 10\n",
    "ltest = Line(1, -1, 5)\n",
    "ptest2 = Point(5, 10)\n",
    "print(ptest2.lies_on_line(ltest))\n",
    "\n",
    "# And we can see => True."
   ]
  },
  {
   "cell_type": "markdown",
   "id": "9146c586",
   "metadata": {},
   "source": [
    "Let's move to last question. Distance of a point from a line."
   ]
  },
  {
   "cell_type": "code",
   "execution_count": 29,
   "id": "9614ec79",
   "metadata": {},
   "outputs": [
    {
     "data": {
      "text/plain": [
       "1.41"
      ]
     },
     "execution_count": 29,
     "metadata": {},
     "output_type": "execute_result"
    }
   ],
   "source": [
    "ltest.shortest_dist_from_point(ptest)"
   ]
  },
  {
   "cell_type": "markdown",
   "id": "ded39d77",
   "metadata": {},
   "source": [
    "Here we implemented the shortest distance of a point from line using the formula:\n",
    "\n",
    "for line function ax + by + c = 0 and a point (x1,y1)\n",
    "\n",
    "shortest distance = |a(x1) + b(y1) + c| / sqrt(a^2 + b^2)"
   ]
  },
  {
   "cell_type": "markdown",
   "id": "064cd063",
   "metadata": {},
   "source": [
    "NOW We'll write method for finding whether a line intersects another line or not."
   ]
  },
  {
   "cell_type": "code",
   "execution_count": 40,
   "id": "20bbca0b",
   "metadata": {},
   "outputs": [
    {
     "data": {
      "text/plain": [
       "True"
      ]
     },
     "execution_count": 40,
     "metadata": {},
     "output_type": "execute_result"
    }
   ],
   "source": [
    "ltest.intersect(l3)"
   ]
  },
  {
   "cell_type": "code",
   "execution_count": null,
   "id": "1c7ad4a7",
   "metadata": {},
   "outputs": [
    {
     "data": {
      "text/plain": [
       "False"
      ]
     },
     "execution_count": 41,
     "metadata": {},
     "output_type": "execute_result"
    }
   ],
   "source": [
    "#We know parallel lines dont intesect.\n",
    "p1 = Line(1, 1, 2)\n",
    "p2 = Line(2, 2, 4)\n",
    "\n",
    "p1.intersect(p2)"
   ]
  },
  {
   "cell_type": "markdown",
   "id": "9e2230e8",
   "metadata": {},
   "source": [
    "Hence we can see that yes the parallel lines dont intersect, therefore answer is False"
   ]
  },
  {
   "cell_type": "markdown",
   "id": "0830287b",
   "metadata": {},
   "source": [
    ".\n",
    ".\n",
    ".\n",
    ".\n",
    ".\n",
    ".\n",
    ".\n",
    "This is my previous logic of beautifying the line equations, which is a monstrocity and so unfeasible. Still for remider, kept it here.\n",
    "\n",
    "class Line:\n",
    "    \n",
    "    def __str__(self):\n",
    "        match (self.x_coeff, self.y_coeff, self.constant):\n",
    "            case 0,0,0:\n",
    "                return \"Origin\"\n",
    "            case 1,0,0:\n",
    "                return 'x = 0'\n",
    "            case 0,1,0:\n",
    "                return 'y = 0'\n",
    "            case -1,0,0:\n",
    "                return '-x = 0'\n",
    "            case 0,-1, 0:\n",
    "                return '-y = 0'\n",
    "            case 0,0,c:\n",
    "                return \"No Line since {} can't be equal to 0\".format(c)\n",
    "            case 1,0,c:\n",
    "                if c>0:\n",
    "                    return 'x + {} = 0'.format(c)\n",
    "                return 'x - {} = 0'.format(-c)\n",
    "            case 0,1,c:\n",
    "                if c>0:\n",
    "                    return 'y + {} = 0'.format(c)\n",
    "                return 'y - {} = 0'.format(-c)\n",
    "            case -1,0,c:\n",
    "                if c>0:\n",
    "                    return '-x + {} = 0'.format(c)\n",
    "                return '-x - {} = 0'.format(-c)\n",
    "            case 0,-1,c:\n",
    "                if c>0:\n",
    "                    return '-y + {} = 0'.format(c)\n",
    "                return '-y - {} = 0'.format(-c)\n",
    "            case 1,1,c:\n",
    "                if c>0:\n",
    "                    return 'x + y + {} = 0'.format(c)\n",
    "                return 'x + y - {} = 0'.format(-c)\n",
    "            case 1,-1,c:\n",
    "                if c>0:\n",
    "                    return 'x - y + {} = 0'.format(c)\n",
    "                return 'x - y - {} = 0'.format(-c)\n",
    "            case -1,1,c:\n",
    "                if c>0:\n",
    "                    return '-x + y + {} = 0'.format(c)\n",
    "                return '-x + y - {} = 0'.format(-c)\n",
    "            case -1,-1,c:\n",
    "                if c>0:\n",
    "                    return '-x - y + {} = 0'.format(c)\n",
    "                return '-x - y - {} = 0'.format(-c)\n",
    "            case a,0,0:\n",
    "                if a>0:\n",
    "                    return '{} = 0'.format(a)\n",
    "                return '-{} = 0'.format(-a)\n",
    "            case a,0,c:\n",
    "                if a>0 and c>0:\n",
    "                    return '{}x + {} = 0'.format(a, c)\n",
    "                if a>0 and c<0:\n",
    "                    return '{}x - {} = 0'.format(a, -c)\n",
    "                if a<0 and c>0:\n",
    "                    return '-{}x + {} = 0'.format(-a, c)\n",
    "                return '-{}x - {} = 0'.format(-a, -c)\n",
    "            case 0,b,0:\n",
    "                if b>0:\n",
    "                    return '{}y = 0'.format(b)\n",
    "                return '-{}y = 0'.format(-b)\n",
    "            case 0,b,c:\n",
    "                if b>0 and c>0:\n",
    "                    return '{}y + {} = 0'.format(b, c)\n",
    "                if b>0 and c<0:\n",
    "                    return '{}y - {} = 0'.format(b, -c)\n",
    "                if b<0 and c>0:\n",
    "                    return '-{}y + {} = 0'.format(-b, c)\n",
    "                return '-{}y - {} = 0'.format(-b, -c)\n",
    "            case a,b,0:\n",
    "                if a>0 and b>0:\n",
    "                    return '{}x + {}y = 0'.format(a, b)\n",
    "                if a>0 and b<0:\n",
    "                    return '{}x - {}y = 0'.format(a, -b)\n",
    "                if a<0 and b>0:\n",
    "                    return '-{}x + {}y = 0'.format(-a, b)\n",
    "                return '-{}x - {}y = 0'.format(-a, -b)\n",
    "            case a,b,c:\n",
    "                if a>0 and b>0 and c>0:\n",
    "                    return '{}x + {}y + {} = 0'.format(a, b, c)\n",
    "                if a>0 and b>0 and c<0:\n",
    "                    return '{}x + {}y - {} = 0'.format(a, b, -c)\n",
    "                if a>0 and b<0 and c>0:\n",
    "                    return '{}x - {}y + {} = 0'.format(a, -b, c)\n",
    "                if a>0 and b<0 and c<0:\n",
    "                    return '{}x - {}y - {} = 0'.format(a, -b, -c)\n",
    "                if a<0 and b>0 and c>0:\n",
    "                    return '-{}x + {}y + {} = 0'.format(-a, b, c)\n",
    "                if a<0 and b>0 and c<0:\n",
    "                    return '-{}x + {}y - {} = 0'.format(-a, b, -c)\n",
    "                if a<0 and b<0 and c>0:\n",
    "                    return '-{}x - {}y + {} = 0'.format(-a, -b, c)\n",
    "                return '-{}x - {}y - {} = 0'.format(-a, -b, -c)\n",
    "            # I know this is not feasible, but this was just for beautification. Else simply return as (a)x + (b)y + (c) = 0. In this way, even with 0, 1 or -ve values, it won't be unpleasant to see."
   ]
  },
  {
   "cell_type": "markdown",
   "id": "2b32102a",
   "metadata": {},
   "source": []
  }
 ],
 "metadata": {
  "kernelspec": {
   "display_name": "Python 3",
   "language": "python",
   "name": "python3"
  },
  "language_info": {
   "codemirror_mode": {
    "name": "ipython",
    "version": 3
   },
   "file_extension": ".py",
   "mimetype": "text/x-python",
   "name": "python",
   "nbconvert_exporter": "python",
   "pygments_lexer": "ipython3",
   "version": "3.13.5"
  }
 },
 "nbformat": 4,
 "nbformat_minor": 5
}
