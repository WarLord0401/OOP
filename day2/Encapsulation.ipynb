{
 "cells": [
  {
   "cell_type": "markdown",
   "id": "131a4cee",
   "metadata": {},
   "source": [
    "What is instance variable in Python:\n",
    "\n",
    "in a class, within a constructor, when we define attributes like self.x = a and so on... Here 'x' is an instance variable\n",
    "\n",
    "So, a variable whose value is different for different objects is known as an instance variable"
   ]
  },
  {
   "cell_type": "code",
   "execution_count": 1,
   "id": "c12afae6",
   "metadata": {},
   "outputs": [],
   "source": [
    "class Person:\n",
    "    def __init__(self, name_input):\n",
    "        self.name = name_input\n",
    "\n",
    "p1 = Person('Kanishk')\n",
    "p2 = Person('Dhruv')"
   ]
  },
  {
   "cell_type": "code",
   "execution_count": 2,
   "id": "01442440",
   "metadata": {},
   "outputs": [
    {
     "data": {
      "text/plain": [
       "'Kanishk'"
      ]
     },
     "execution_count": 2,
     "metadata": {},
     "output_type": "execute_result"
    }
   ],
   "source": [
    "p1.name"
   ]
  },
  {
   "cell_type": "code",
   "execution_count": 3,
   "id": "5c1be060",
   "metadata": {},
   "outputs": [
    {
     "data": {
      "text/plain": [
       "'Dhruv'"
      ]
     },
     "execution_count": 3,
     "metadata": {},
     "output_type": "execute_result"
    }
   ],
   "source": [
    "p2.name"
   ]
  },
  {
   "cell_type": "markdown",
   "id": "b1aa38d2",
   "metadata": {},
   "source": [
    "So variable is same: \"name\"\n",
    "\n",
    "But value were 2 (Kanishk and Dhruv) for different objects"
   ]
  },
  {
   "cell_type": "markdown",
   "id": "9056ec1a",
   "metadata": {},
   "source": [
    "So the Instance Variable is a special kind of variable whose value depends on the object.\n",
    "\n",
    "So for each object, the value of an instance variable is different (Except maybe when same names or something like that)"
   ]
  },
  {
   "cell_type": "markdown",
   "id": "c6e286eb",
   "metadata": {},
   "source": [
    "# ENCAPSULATION"
   ]
  },
  {
   "cell_type": "code",
   "execution_count": 22,
   "id": "4f63607a",
   "metadata": {},
   "outputs": [],
   "source": [
    "# We'll use our atm code for understanding\n",
    "\n",
    "class Atm:\n",
    "    def __init__(self):\n",
    "        self.__balance = 0\n",
    "        self.__pin = ''\n",
    "        #self.menu()\n",
    "\n",
    "    def menu(self):\n",
    "        user_input = input(\"\"\"\n",
    "        1. Enter 1 to Check Balance\n",
    "        2. Enter 2 to Deposit\n",
    "        3. Enter 3 to Withdraw\n",
    "        4. Enter 4 to Change PIN\n",
    "        5. Enter 5 to add Pin/Balance\n",
    "        6. Enter anything else to Exit\n",
    "        \"\"\")\n",
    "\n",
    "        if user_input == '1':\n",
    "            self.checkBal()\n",
    "        elif user_input == '2':\n",
    "            self.deposit()\n",
    "        elif user_input == '3':\n",
    "            self.withdraw()\n",
    "        elif user_input == '4':\n",
    "            self.changePin()\n",
    "        elif user_input == '5':\n",
    "            self.addPB()\n",
    "        else:\n",
    "            print(\"Exiting...\")\n",
    "            return\n",
    "\n",
    "    def addPB(self):\n",
    "        user_pin = input(\"Enter your pin: \")\n",
    "        self.__pin = user_pin\n",
    "\n",
    "        user_balance = int(input(\"Enter your balance: \"))\n",
    "        self.__balance = user_balance\n",
    "\n",
    "        print(\"Pin and Balance added successfully.\")\n",
    "        return\n",
    "\n",
    "    def checkBal(self):\n",
    "        print(\"Your current balance is: \", self.__balance, \"Rs\")\n",
    "        return\n",
    "\n",
    "    def changePin(self):\n",
    "        if self.__pin != '':\n",
    "            ctr = 0\n",
    "            check = input(\"Enter your existing pin: \")\n",
    "            if check == self.__pin:\n",
    "                user_pin = input(\"Enter new pin: \")\n",
    "                self.__pin = user_pin\n",
    "                print(\"Pin changed successfully.\")\n",
    "                return\n",
    "            else:\n",
    "                print(\"Incorrect pin. Please try again.\")\n",
    "                self.changePin()\n",
    "                ctr += 1\n",
    "                if ctr == 3:\n",
    "                    print(\"Too many incorrect attempts. Exiting to menu.\")\n",
    "                    return\n",
    "        else:\n",
    "            print(\"No pin set. Please add a pin first.\")\n",
    "            self.addPB()\n",
    "\n",
    "    def withdraw(self):\n",
    "        if self.__pin != '':\n",
    "            user_pin = input(\"Enter your pin: \")\n",
    "            if user_pin == self.__pin:\n",
    "                amount = int(input(\"Enter amount to withdraw:\"))\n",
    "                if amount <= self.__balance and self.__balance > 0:\n",
    "                    self.__balance -= amount\n",
    "                    print(\"Amount withdrawn successfully.  Balance:\", self.__balance, \"Rs\")\n",
    "                    return\n",
    "                else:\n",
    "                    print(\"Insufficient balance.\")\n",
    "                    self.withdraw()\n",
    "            else:\n",
    "                print(\"Incorrect pin.\")\n",
    "                self.withdraw()\n",
    "        elif self.__balance == 0:\n",
    "            print(\"Your account is empty.\")\n",
    "            return\n",
    "        else:\n",
    "            print(\"No pin set. Please add a pin first.\")\n",
    "            self.addPB()\n",
    "\n",
    "    def deposit(self):\n",
    "        if self.__pin != '':\n",
    "            ctr = 0\n",
    "            user_pin = input(\"Enter your pin: \")\n",
    "            if user_pin == self.__pin:\n",
    "                amount = int(input(\"Enter amount to deposit:\"))\n",
    "                self.__balance += amount\n",
    "                print(\"Money added successfully. Balance:\", self.__balance, \"Rs\")\n",
    "                return\n",
    "            else:\n",
    "                print(\"Incorrect pin.\")\n",
    "                ctr+=1\n",
    "                if ctr == 3:\n",
    "                    print(\"Too many incorrect attempts. Exiting to menu.\")\n",
    "                    return\n",
    "        else:\n",
    "            print(\"No pin set. Please add a pin first.\")\n",
    "            self.addPB()"
   ]
  },
  {
   "cell_type": "code",
   "execution_count": 19,
   "id": "10a21c4c",
   "metadata": {},
   "outputs": [],
   "source": [
    "obj = Atm()\n"
   ]
  },
  {
   "cell_type": "code",
   "execution_count": 20,
   "id": "360205e1",
   "metadata": {},
   "outputs": [
    {
     "name": "stdout",
     "output_type": "stream",
     "text": [
      "Pin and Balance added successfully.\n"
     ]
    }
   ],
   "source": [
    "obj.addPB()\n",
    "obj.balance = \"hehehe\""
   ]
  },
  {
   "cell_type": "code",
   "execution_count": 21,
   "id": "473927b7",
   "metadata": {},
   "outputs": [
    {
     "ename": "TypeError",
     "evalue": "'<=' not supported between instances of 'float' and 'str'",
     "output_type": "error",
     "traceback": [
      "\u001b[1;31m---------------------------------------------------------------------------\u001b[0m",
      "\u001b[1;31mTypeError\u001b[0m                                 Traceback (most recent call last)",
      "Cell \u001b[1;32mIn[21], line 1\u001b[0m\n\u001b[1;32m----> 1\u001b[0m \u001b[43mobj\u001b[49m\u001b[38;5;241;43m.\u001b[39;49m\u001b[43mwithdraw\u001b[49m\u001b[43m(\u001b[49m\u001b[43m)\u001b[49m\n",
      "Cell \u001b[1;32mIn[18], line 72\u001b[0m, in \u001b[0;36mAtm.withdraw\u001b[1;34m(self)\u001b[0m\n\u001b[0;32m     70\u001b[0m \u001b[38;5;28;01mif\u001b[39;00m user_pin \u001b[38;5;241m==\u001b[39m \u001b[38;5;28mself\u001b[39m\u001b[38;5;241m.\u001b[39mpin:\n\u001b[0;32m     71\u001b[0m     amount \u001b[38;5;241m=\u001b[39m \u001b[38;5;28mfloat\u001b[39m(\u001b[38;5;28minput\u001b[39m(\u001b[38;5;124m\"\u001b[39m\u001b[38;5;124mEnter amount to withdraw:\u001b[39m\u001b[38;5;124m\"\u001b[39m))\n\u001b[1;32m---> 72\u001b[0m     \u001b[38;5;28;01mif\u001b[39;00m \u001b[43mamount\u001b[49m\u001b[43m \u001b[49m\u001b[38;5;241;43m<\u001b[39;49m\u001b[38;5;241;43m=\u001b[39;49m\u001b[43m \u001b[49m\u001b[38;5;28;43mself\u001b[39;49m\u001b[38;5;241;43m.\u001b[39;49m\u001b[43mbalance\u001b[49m \u001b[38;5;129;01mand\u001b[39;00m \u001b[38;5;28mself\u001b[39m\u001b[38;5;241m.\u001b[39mbalance \u001b[38;5;241m>\u001b[39m \u001b[38;5;241m0\u001b[39m:\n\u001b[0;32m     73\u001b[0m         \u001b[38;5;28mself\u001b[39m\u001b[38;5;241m.\u001b[39mbalance \u001b[38;5;241m-\u001b[39m\u001b[38;5;241m=\u001b[39m amount\n\u001b[0;32m     74\u001b[0m         \u001b[38;5;28mprint\u001b[39m(\u001b[38;5;124m\"\u001b[39m\u001b[38;5;124mAmount withdrawn successfully.  Balance:\u001b[39m\u001b[38;5;124m\"\u001b[39m, \u001b[38;5;28mself\u001b[39m\u001b[38;5;241m.\u001b[39mbalance, \u001b[38;5;124m\"\u001b[39m\u001b[38;5;124mRs\u001b[39m\u001b[38;5;124m\"\u001b[39m)\n",
      "\u001b[1;31mTypeError\u001b[0m: '<=' not supported between instances of 'float' and 'str'"
     ]
    }
   ],
   "source": [
    "obj.withdraw()"
   ]
  },
  {
   "cell_type": "markdown",
   "id": "09100d25",
   "metadata": {},
   "source": [
    "And the code crashed. Why? Cuz user changed value of balance to 'hehehe'"
   ]
  },
  {
   "cell_type": "markdown",
   "id": "0f71ec8d",
   "metadata": {},
   "source": [
    "So balance has become a string and we can't perform operation :)"
   ]
  },
  {
   "cell_type": "markdown",
   "id": "9d5d4857",
   "metadata": {},
   "source": [
    "So, this is a very dangerous case where a programmer can change the value of the attributes inside the class...\n",
    "\n",
    "Hence we have use the \"private\" attributes by add a '__' before an attribute name."
   ]
  },
  {
   "cell_type": "markdown",
   "id": "d3a40c21",
   "metadata": {},
   "source": [
    "Lets update the class"
   ]
  },
  {
   "cell_type": "markdown",
   "id": "b76d421a",
   "metadata": {},
   "source": [
    "OK, so now the user/programmer wont be able to look at the private attributes..."
   ]
  },
  {
   "cell_type": "code",
   "execution_count": 23,
   "id": "8ebd1f25",
   "metadata": {},
   "outputs": [],
   "source": [
    "obj2 = Atm()"
   ]
  },
  {
   "cell_type": "code",
   "execution_count": 24,
   "id": "c9902e0c",
   "metadata": {},
   "outputs": [
    {
     "name": "stdout",
     "output_type": "stream",
     "text": [
      "Pin and Balance added successfully.\n"
     ]
    }
   ],
   "source": [
    "obj2.addPB()\n",
    "obj2.__balance = \"hehehe\""
   ]
  },
  {
   "cell_type": "code",
   "execution_count": 16,
   "id": "4a271953",
   "metadata": {},
   "outputs": [],
   "source": [
    "#hm it changed now as well? lets proceed for now"
   ]
  },
  {
   "cell_type": "code",
   "execution_count": 25,
   "id": "266245b5",
   "metadata": {},
   "outputs": [
    {
     "name": "stdout",
     "output_type": "stream",
     "text": [
      "Amount withdrawn successfully.  Balance: 5000 Rs\n"
     ]
    }
   ],
   "source": [
    "obj2.withdraw()"
   ]
  },
  {
   "cell_type": "markdown",
   "id": "4537ceb1",
   "metadata": {},
   "source": [
    "So NOW We can clearly see that nothing affected the workflow. But that is weird no? When we changed value to 'hehehe', shouldn't it have impacted the main code?\n",
    "\n",
    "Well the answer is NO.\n",
    "\n",
    "Why? Because whenever we declare a private variable like: __balance, Python automatically changes it to formate: _ClassName__attribute (here: _Atm__balance), thus differentiating from the value we SEE on the attribute part of class."
   ]
  },
  {
   "cell_type": "code",
   "execution_count": 27,
   "id": "26a9b08d",
   "metadata": {},
   "outputs": [],
   "source": [
    "# Now what if user/programmer know about this?\n",
    "\n",
    "obj3 = Atm()"
   ]
  },
  {
   "cell_type": "code",
   "execution_count": 28,
   "id": "c16b74c0",
   "metadata": {},
   "outputs": [
    {
     "name": "stdout",
     "output_type": "stream",
     "text": [
      "Pin and Balance added successfully.\n"
     ]
    }
   ],
   "source": [
    "obj3.addPB()\n",
    "obj3._Atm__balance = \"hehehe\" # here the programmer tries to access the private variable that if formed upon declaration."
   ]
  },
  {
   "cell_type": "code",
   "execution_count": 29,
   "id": "1ee03922",
   "metadata": {},
   "outputs": [
    {
     "ename": "TypeError",
     "evalue": "'<=' not supported between instances of 'float' and 'str'",
     "output_type": "error",
     "traceback": [
      "\u001b[1;31m---------------------------------------------------------------------------\u001b[0m",
      "\u001b[1;31mTypeError\u001b[0m                                 Traceback (most recent call last)",
      "Cell \u001b[1;32mIn[29], line 1\u001b[0m\n\u001b[1;32m----> 1\u001b[0m \u001b[43mobj\u001b[49m\u001b[38;5;241;43m.\u001b[39;49m\u001b[43mwithdraw\u001b[49m\u001b[43m(\u001b[49m\u001b[43m)\u001b[49m\n",
      "Cell \u001b[1;32mIn[18], line 72\u001b[0m, in \u001b[0;36mAtm.withdraw\u001b[1;34m(self)\u001b[0m\n\u001b[0;32m     70\u001b[0m \u001b[38;5;28;01mif\u001b[39;00m user_pin \u001b[38;5;241m==\u001b[39m \u001b[38;5;28mself\u001b[39m\u001b[38;5;241m.\u001b[39mpin:\n\u001b[0;32m     71\u001b[0m     amount \u001b[38;5;241m=\u001b[39m \u001b[38;5;28mfloat\u001b[39m(\u001b[38;5;28minput\u001b[39m(\u001b[38;5;124m\"\u001b[39m\u001b[38;5;124mEnter amount to withdraw:\u001b[39m\u001b[38;5;124m\"\u001b[39m))\n\u001b[1;32m---> 72\u001b[0m     \u001b[38;5;28;01mif\u001b[39;00m \u001b[43mamount\u001b[49m\u001b[43m \u001b[49m\u001b[38;5;241;43m<\u001b[39;49m\u001b[38;5;241;43m=\u001b[39;49m\u001b[43m \u001b[49m\u001b[38;5;28;43mself\u001b[39;49m\u001b[38;5;241;43m.\u001b[39;49m\u001b[43mbalance\u001b[49m \u001b[38;5;129;01mand\u001b[39;00m \u001b[38;5;28mself\u001b[39m\u001b[38;5;241m.\u001b[39mbalance \u001b[38;5;241m>\u001b[39m \u001b[38;5;241m0\u001b[39m:\n\u001b[0;32m     73\u001b[0m         \u001b[38;5;28mself\u001b[39m\u001b[38;5;241m.\u001b[39mbalance \u001b[38;5;241m-\u001b[39m\u001b[38;5;241m=\u001b[39m amount\n\u001b[0;32m     74\u001b[0m         \u001b[38;5;28mprint\u001b[39m(\u001b[38;5;124m\"\u001b[39m\u001b[38;5;124mAmount withdrawn successfully.  Balance:\u001b[39m\u001b[38;5;124m\"\u001b[39m, \u001b[38;5;28mself\u001b[39m\u001b[38;5;241m.\u001b[39mbalance, \u001b[38;5;124m\"\u001b[39m\u001b[38;5;124mRs\u001b[39m\u001b[38;5;124m\"\u001b[39m)\n",
      "\u001b[1;31mTypeError\u001b[0m: '<=' not supported between instances of 'float' and 'str'"
     ]
    }
   ],
   "source": [
    "obj.withdraw()"
   ]
  },
  {
   "cell_type": "markdown",
   "id": "b84cb855",
   "metadata": {},
   "source": [
    "And it again crashedd"
   ]
  },
  {
   "cell_type": "markdown",
   "id": "d023f220",
   "metadata": {},
   "source": [
    "But why not private in the proper sense like JAVA?"
   ]
  },
  {
   "cell_type": "markdown",
   "id": "33602dbc",
   "metadata": {},
   "source": [
    "Because in python, nothing is truly Private.\n",
    "\n",
    "The use of __ is basically a gentleman's agreement that this variable is private please don't alter it"
   ]
  },
  {
   "cell_type": "markdown",
   "id": "cd566d94",
   "metadata": {},
   "source": [
    "__It is important to know that we should almost always declare the attributes in a private manner to keep data safe__"
   ]
  },
  {
   "cell_type": "markdown",
   "id": "13d4b135",
   "metadata": {},
   "source": [
    "So, if a person really needs to work upon the variables, but we also want to keep variable name hidden, but allow him, we can use getter and setter methods."
   ]
  },
  {
   "cell_type": "markdown",
   "id": "bd57032d",
   "metadata": {},
   "source": [
    "for example:"
   ]
  },
  {
   "cell_type": "code",
   "execution_count": 58,
   "id": "8390691d",
   "metadata": {},
   "outputs": [],
   "source": [
    "class Animal:\n",
    "    def __init__(self):\n",
    "        self.__category = \"Mammals\"\n",
    "        self.__name = \"Tiger\"\n",
    "\n",
    "    def get_category(self):\n",
    "        return self.__category\n",
    "\n",
    "    def get_name(self):\n",
    "        return self.__name\n",
    "\n",
    "    def set_category(self, new):\n",
    "        self.__category = new\n",
    "        return \"New category set: {}\".format(self.__category)\n",
    "\n",
    "    def set_name(self, new):\n",
    "        self.__name = new\n",
    "        return \"New name set: {new}\"\n",
    "\n",
    "# Here these get and set methods will enable a programmer to access and edit the values of attributes if required\n"
   ]
  },
  {
   "cell_type": "code",
   "execution_count": 59,
   "id": "35e7fcfa",
   "metadata": {},
   "outputs": [],
   "source": [
    "animal = Animal()"
   ]
  },
  {
   "cell_type": "code",
   "execution_count": 60,
   "id": "eb8149d8",
   "metadata": {},
   "outputs": [
    {
     "data": {
      "text/plain": [
       "'Mammals'"
      ]
     },
     "execution_count": 60,
     "metadata": {},
     "output_type": "execute_result"
    }
   ],
   "source": [
    "animal.get_category()"
   ]
  },
  {
   "cell_type": "code",
   "execution_count": 61,
   "id": "ae71db07",
   "metadata": {},
   "outputs": [
    {
     "data": {
      "text/plain": [
       "'New category set: Amphibians'"
      ]
     },
     "execution_count": 61,
     "metadata": {},
     "output_type": "execute_result"
    }
   ],
   "source": [
    "animal.set_category(\"Amphibians\")"
   ]
  },
  {
   "cell_type": "code",
   "execution_count": 62,
   "id": "0b850fcc",
   "metadata": {},
   "outputs": [
    {
     "data": {
      "text/plain": [
       "'Amphibians'"
      ]
     },
     "execution_count": 62,
     "metadata": {},
     "output_type": "execute_result"
    }
   ],
   "source": [
    "animal.get_category()"
   ]
  },
  {
   "cell_type": "markdown",
   "id": "f62d1a26",
   "metadata": {},
   "source": [
    "As we can see, a person can easily get and set new value of the value. But what if this user also tries to enter different data type value?\n",
    "\n",
    "Now we have the ability to set new value thru a function, IN WHICH we can apply any logic or check. Hence we can just apply a check if input is of correct data type :)"
   ]
  },
  {
   "cell_type": "code",
   "execution_count": 71,
   "id": "d15d9562",
   "metadata": {},
   "outputs": [],
   "source": [
    "class Animal:\n",
    "    def __init__(self):\n",
    "        self.__category = \"Mammals\"\n",
    "\n",
    "    def get_category(self):\n",
    "        return self.__category\n",
    "\n",
    "    def set_category(self, new):\n",
    "        # adding a check for new:\n",
    "        if type(new) != 'String':\n",
    "            return \"Please enter string value...\"\n",
    "        self.__category = new\n",
    "        return \"New category set: {}\".format(self.__category)"
   ]
  },
  {
   "cell_type": "code",
   "execution_count": 72,
   "id": "77b4ef76",
   "metadata": {},
   "outputs": [],
   "source": [
    "# Now if we try to set a wrong datatype:\n",
    "\n",
    "anim = Animal()"
   ]
  },
  {
   "cell_type": "code",
   "execution_count": 74,
   "id": "e48d6f45",
   "metadata": {},
   "outputs": [
    {
     "data": {
      "text/plain": [
       "'Mammals'"
      ]
     },
     "execution_count": 74,
     "metadata": {},
     "output_type": "execute_result"
    }
   ],
   "source": [
    "anim.get_category()"
   ]
  },
  {
   "cell_type": "code",
   "execution_count": 75,
   "id": "c76edd4d",
   "metadata": {},
   "outputs": [
    {
     "data": {
      "text/plain": [
       "'Please enter string value...'"
      ]
     },
     "execution_count": 75,
     "metadata": {},
     "output_type": "execute_result"
    }
   ],
   "source": [
    "anim.set_category(233)"
   ]
  },
  {
   "cell_type": "markdown",
   "id": "607b428f",
   "metadata": {},
   "source": [
    "Hence our class is properly encapsulating the attributes now."
   ]
  },
  {
   "cell_type": "markdown",
   "id": "60c7680c",
   "metadata": {},
   "source": [
    "__Collection of Objects__"
   ]
  },
  {
   "cell_type": "markdown",
   "id": "94e033d2",
   "metadata": {},
   "source": [
    "Mainly in the form of lists, tuples, etc. we can collect and store objects"
   ]
  },
  {
   "cell_type": "code",
   "execution_count": 85,
   "id": "265e73e5",
   "metadata": {},
   "outputs": [
    {
     "name": "stdout",
     "output_type": "stream",
     "text": [
      "[<__main__.Person object at 0x0000025FE007A270>, <__main__.Person object at 0x0000025FDFC2AC10>, <__main__.Person object at 0x0000025FDFC2BED0>]\n",
      "Kanishk male\n",
      "Anna female\n",
      "Horimiya male\n",
      "{'p1': <__main__.Person object at 0x0000025FE007A270>, 'p2': <__main__.Person object at 0x0000025FDFC2AC10>, 'p3': <__main__.Person object at 0x0000025FDFC2BED0>}\n",
      "Kanishk male\n",
      "Anna female\n",
      "Horimiya male\n"
     ]
    }
   ],
   "source": [
    "# for eg:\n",
    "\n",
    "class Person:\n",
    "    def __init__(self, name, gender):\n",
    "        self.name = name\n",
    "        self.gender = gender\n",
    "\n",
    "p1 = Person(\"Kanishk\", \"male\")\n",
    "p2 = Person(\"Anna\", \"female\")\n",
    "p3 = Person(\"Horimiya\", \"male\")\n",
    "\n",
    "# List L\n",
    "L = [p1,p2,p3]\n",
    "\n",
    "print(L)\n",
    "# This shows we can make lists out of objects and the list will store the address of the objects\n",
    "\n",
    "for i in L:\n",
    "    print(i.name, i.gender)\n",
    "\n",
    "# Dictionary D\n",
    "\n",
    "D = {\n",
    "    'p1':p1,\n",
    "    'p2':p2,\n",
    "    'p3':p3\n",
    "}\n",
    "\n",
    "print(D)\n",
    "\n",
    "for i in D:\n",
    "    print(D[i].name, D[i].gender)"
   ]
  },
  {
   "cell_type": "markdown",
   "id": "1462cc5f",
   "metadata": {},
   "source": [
    "So we can see that we can do this, but that also means that we can perform list/dictionary operations as well as object operations too."
   ]
  },
  {
   "cell_type": "markdown",
   "id": "37069125",
   "metadata": {},
   "source": [
    "STATIC VARIABLES VS INSTANCE VARIABLES"
   ]
  },
  {
   "cell_type": "markdown",
   "id": "15a342a2",
   "metadata": {},
   "source": [
    "using atm class explain this:"
   ]
  },
  {
   "cell_type": "markdown",
   "id": "d70f1055",
   "metadata": {},
   "source": [
    "Suppose the person wants each customer to have a unique ID, then how will we do that?"
   ]
  },
  {
   "cell_type": "code",
   "execution_count": 115,
   "id": "b004009a",
   "metadata": {},
   "outputs": [],
   "source": [
    "class Atm:\n",
    "    \n",
    "    __ctr = 0\n",
    "\n",
    "    def __init__(self):\n",
    "        self.__balance = 0\n",
    "        self.__pin = ''\n",
    "        # self.cid = 0 => This is instance variable and wont work.\n",
    "        self.__cid = __Atm.ctr + 1 # we use classname to call static variable\n",
    "        Atm.__ctr += 1\n",
    "        #self.menu()\n",
    "\n",
    "    @staticmethod # those methods which to make don't require an object. Directly accessible from class. Purpose: to create utility method.\n",
    "    def get_ctr(): # Note that we are not using self here.\n",
    "        return Atm.__ctr\n",
    "\n",
    "    def set_ctr(count):\n",
    "        Atm.__ctr = count\n",
    "        return Atm.__ctr\n",
    "    \n",
    "    def get_cid(self):\n",
    "        return self.__cid\n",
    "\n",
    "    def set_cid(self, new):\n",
    "        self.__cid = new\n",
    "        return self.__cid\n",
    "\n",
    "    def menu(self):\n",
    "        user_input = input(\"\"\"\n",
    "        1. Enter 1 to Check Balance\n",
    "        2. Enter 2 to Deposit\n",
    "        3. Enter 3 to Withdraw\n",
    "        4. Enter 4 to Change PIN\n",
    "        5. Enter 5 to add Pin/Balance\n",
    "        6. Enter anything else to Exit\n",
    "        \"\"\")\n",
    "\n",
    "        if user_input == '1':\n",
    "            self.checkBal()\n",
    "        elif user_input == '2':\n",
    "            self.deposit()\n",
    "        elif user_input == '3':\n",
    "            self.withdraw()\n",
    "        elif user_input == '4':\n",
    "            self.changePin()\n",
    "        elif user_input == '5':\n",
    "            self.addPB()\n",
    "        else:\n",
    "            print(\"Exiting...\")\n",
    "            return\n",
    "\n",
    "    def addPB(self):\n",
    "        user_pin = input(\"Enter your pin: \")\n",
    "        self.__pin = user_pin\n",
    "\n",
    "        user_balance = int(input(\"Enter your balance: \"))\n",
    "        self.__balance = user_balance\n",
    "\n",
    "        print(\"Pin and Balance added successfully.\")\n",
    "        return\n",
    "\n",
    "    def checkBal(self):\n",
    "        print(\"Your current balance is: \", self.__balance, \"Rs\")\n",
    "        return\n",
    "\n",
    "    def changePin(self):\n",
    "        if self.__pin != '':\n",
    "            ctr = 0\n",
    "            check = input(\"Enter your existing pin: \")\n",
    "            if check == self.__pin:\n",
    "                user_pin = input(\"Enter new pin: \")\n",
    "                self.__pin = user_pin\n",
    "                print(\"Pin changed successfully.\")\n",
    "                return\n",
    "            else:\n",
    "                print(\"Incorrect pin. Please try again.\")\n",
    "                self.changePin()\n",
    "                ctr += 1\n",
    "                if ctr == 3:\n",
    "                    print(\"Too many incorrect attempts. Exiting to menu.\")\n",
    "                    return\n",
    "        else:\n",
    "            print(\"No pin set. Please add a pin first.\")\n",
    "            self.addPB()\n",
    "\n",
    "    def withdraw(self):\n",
    "        if self.__pin != '':\n",
    "            user_pin = input(\"Enter your pin: \")\n",
    "            if user_pin == self.__pin:\n",
    "                amount = int(input(\"Enter amount to withdraw:\"))\n",
    "                if amount <= self.__balance and self.__balance > 0:\n",
    "                    self.__balance -= amount\n",
    "                    print(\"Amount withdrawn successfully.  Balance:\", self.__balance, \"Rs\")\n",
    "                    return\n",
    "                else:\n",
    "                    print(\"Insufficient balance.\")\n",
    "                    self.withdraw()\n",
    "            else:\n",
    "                print(\"Incorrect pin.\")\n",
    "                self.withdraw()\n",
    "        elif self.__balance == 0:\n",
    "            print(\"Your account is empty.\")\n",
    "            return\n",
    "        else:\n",
    "            print(\"No pin set. Please add a pin first.\")\n",
    "            self.addPB()\n",
    "\n",
    "    def deposit(self):\n",
    "        if self.__pin != '':\n",
    "            ctr = 0\n",
    "            user_pin = input(\"Enter your pin: \")\n",
    "            if user_pin == self.__pin:\n",
    "                amount = int(input(\"Enter amount to deposit:\"))\n",
    "                self.__balance += amount\n",
    "                print(\"Money added successfully. Balance:\", self.__balance, \"Rs\")\n",
    "                return\n",
    "            else:\n",
    "                print(\"Incorrect pin.\")\n",
    "                ctr+=1\n",
    "                if ctr == 3:\n",
    "                    print(\"Too many incorrect attempts. Exiting to menu.\")\n",
    "                    return\n",
    "        else:\n",
    "            print(\"No pin set. Please add a pin first.\")\n",
    "            self.addPB()"
   ]
  },
  {
   "cell_type": "code",
   "execution_count": 88,
   "id": "f7a7be6a",
   "metadata": {},
   "outputs": [],
   "source": [
    "# Lets create 3 objects (customers)"
   ]
  },
  {
   "cell_type": "code",
   "execution_count": 89,
   "id": "7b14f619",
   "metadata": {},
   "outputs": [],
   "source": [
    "c1 = Atm()\n",
    "c2 = Atm()\n",
    "c3 = Atm()"
   ]
  },
  {
   "cell_type": "code",
   "execution_count": 90,
   "id": "2cf785c3",
   "metadata": {},
   "outputs": [
    {
     "name": "stdout",
     "output_type": "stream",
     "text": [
      "1\n",
      "1\n",
      "1\n"
     ]
    }
   ],
   "source": [
    "print(c1.cid)\n",
    "print(c2.cid)\n",
    "print(c3.cid)"
   ]
  },
  {
   "cell_type": "markdown",
   "id": "f974dfca",
   "metadata": {},
   "source": [
    "Huhh, so the cid value didnt increase per customer... Why? Because cid is an instance variable which gets reset every time a new object is created. Meaning, an instance variable can't be used to implement a counter."
   ]
  },
  {
   "cell_type": "markdown",
   "id": "f573f6fd",
   "metadata": {},
   "source": [
    "Therefore, we need a static variable => It is a class variable (just like instance variable is an object variable)"
   ]
  },
  {
   "cell_type": "markdown",
   "id": "8b70be28",
   "metadata": {},
   "source": [
    "This means, value of a static variable remains same for all objects within a class"
   ]
  },
  {
   "cell_type": "code",
   "execution_count": 99,
   "id": "5c54fc5e",
   "metadata": {},
   "outputs": [],
   "source": [
    "# Lets make new objects again:\n",
    "\n",
    "c4 = Atm()\n",
    "c5 = Atm()\n",
    "c6 = Atm()"
   ]
  },
  {
   "cell_type": "code",
   "execution_count": 100,
   "id": "6d9ad799",
   "metadata": {},
   "outputs": [
    {
     "name": "stdout",
     "output_type": "stream",
     "text": [
      "1\n",
      "2\n",
      "3\n"
     ]
    }
   ],
   "source": [
    "print(c4.cid)\n",
    "print(c5.cid)\n",
    "print(c6.cid)"
   ]
  },
  {
   "cell_type": "markdown",
   "id": "34dc48fa",
   "metadata": {},
   "source": [
    "And it WORKED! That is because ctr is not impacted by object code and is not limited to the scope of an object."
   ]
  },
  {
   "cell_type": "code",
   "execution_count": 105,
   "id": "b2f57a36",
   "metadata": {},
   "outputs": [],
   "source": [
    "# Now lets see if another person outside the class can impact its value.\n",
    "\n",
    "Atm.ctr = \"Hehehe\""
   ]
  },
  {
   "cell_type": "code",
   "execution_count": 108,
   "id": "62227bb0",
   "metadata": {},
   "outputs": [
    {
     "ename": "TypeError",
     "evalue": "can only concatenate str (not \"int\") to str",
     "output_type": "error",
     "traceback": [
      "\u001b[1;31m---------------------------------------------------------------------------\u001b[0m",
      "\u001b[1;31mTypeError\u001b[0m                                 Traceback (most recent call last)",
      "Cell \u001b[1;32mIn[108], line 1\u001b[0m\n\u001b[1;32m----> 1\u001b[0m c7 \u001b[38;5;241m=\u001b[39m \u001b[43mAtm\u001b[49m\u001b[43m(\u001b[49m\u001b[43m)\u001b[49m\n",
      "Cell \u001b[1;32mIn[98], line 9\u001b[0m, in \u001b[0;36mAtm.__init__\u001b[1;34m(self)\u001b[0m\n\u001b[0;32m      7\u001b[0m \u001b[38;5;28mself\u001b[39m\u001b[38;5;241m.\u001b[39m__pin \u001b[38;5;241m=\u001b[39m \u001b[38;5;124m'\u001b[39m\u001b[38;5;124m'\u001b[39m\n\u001b[0;32m      8\u001b[0m \u001b[38;5;66;03m# self.cid = 0 => This is instance variable and wont work.\u001b[39;00m\n\u001b[1;32m----> 9\u001b[0m \u001b[38;5;28mself\u001b[39m\u001b[38;5;241m.\u001b[39mcid \u001b[38;5;241m=\u001b[39m \u001b[43mAtm\u001b[49m\u001b[38;5;241;43m.\u001b[39;49m\u001b[43mctr\u001b[49m\u001b[43m \u001b[49m\u001b[38;5;241;43m+\u001b[39;49m\u001b[43m \u001b[49m\u001b[38;5;241;43m1\u001b[39;49m \u001b[38;5;66;03m# we use classname to call static variable\u001b[39;00m\n\u001b[0;32m     10\u001b[0m Atm\u001b[38;5;241m.\u001b[39mctr \u001b[38;5;241m+\u001b[39m\u001b[38;5;241m=\u001b[39m \u001b[38;5;241m1\u001b[39m\n",
      "\u001b[1;31mTypeError\u001b[0m: can only concatenate str (not \"int\") to str"
     ]
    }
   ],
   "source": [
    "c7 = Atm()"
   ]
  },
  {
   "cell_type": "code",
   "execution_count": 109,
   "id": "bf180a23",
   "metadata": {},
   "outputs": [],
   "source": [
    "# SImple funda => make it private :)"
   ]
  },
  {
   "cell_type": "code",
   "execution_count": 114,
   "id": "c295df01",
   "metadata": {},
   "outputs": [
    {
     "data": {
      "text/plain": [
       "0"
      ]
     },
     "execution_count": 114,
     "metadata": {},
     "output_type": "execute_result"
    }
   ],
   "source": [
    "# to access counter, we can't use object name, so we use class name.\n",
    "\n",
    "Atm.get_ctr()"
   ]
  },
  {
   "cell_type": "code",
   "execution_count": null,
   "id": "27946b51",
   "metadata": {},
   "outputs": [],
   "source": []
  }
 ],
 "metadata": {
  "kernelspec": {
   "display_name": "Python 3",
   "language": "python",
   "name": "python3"
  },
  "language_info": {
   "codemirror_mode": {
    "name": "ipython",
    "version": 3
   },
   "file_extension": ".py",
   "mimetype": "text/x-python",
   "name": "python",
   "nbconvert_exporter": "python",
   "pygments_lexer": "ipython3",
   "version": "3.13.5"
  }
 },
 "nbformat": 4,
 "nbformat_minor": 5
}
